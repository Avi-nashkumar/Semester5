{
  "nbformat": 4,
  "nbformat_minor": 0,
  "metadata": {
    "kernelspec": {
      "display_name": "Python 3",
      "language": "python",
      "name": "python3"
    },
    "language_info": {
      "codemirror_mode": {
        "name": "ipython",
        "version": 3
      },
      "file_extension": ".py",
      "mimetype": "text/x-python",
      "name": "python",
      "nbconvert_exporter": "python",
      "pygments_lexer": "ipython3",
      "version": "3.6.5"
    },
    "colab": {
      "name": "Copy of Lab1-checkpoint.ipynb",
      "provenance": [],
      "include_colab_link": true
    }
  },
  "cells": [
    {
      "cell_type": "markdown",
      "metadata": {
        "id": "view-in-github",
        "colab_type": "text"
      },
      "source": [
        "<a href=\"https://colab.research.google.com/github/Avi-nashkumar/Semester5/blob/master/Copy_of_Lab1_checkpoint.ipynb\" target=\"_parent\"><img src=\"https://colab.research.google.com/assets/colab-badge.svg\" alt=\"Open In Colab\"/></a>"
      ]
    },
    {
      "cell_type": "code",
      "metadata": {
        "id": "lnG26TVs0E71",
        "colab_type": "code",
        "colab": {
          "base_uri": "https://localhost:8080/",
          "height": 202
        },
        "outputId": "0cd71c4c-a0af-49b6-e6f6-52500b83e1ae"
      },
      "source": [
        "import numpy as np\n",
        "from numpy import genfromtxt\n",
        "import matplotlib.pyplot as plt\n",
        "from scipy import stats\n",
        "\n",
        "#Reading the file\n",
        "\n",
        "my_data = genfromtxt('dataset1.csv', delimiter=',', skip_header=1)\n",
        "print(my_data)\n",
        "\n",
        "#Printing the properties\n",
        "\n",
        "print(my_data.shape) #Rows and columns\n",
        "\n",
        "#print(my_data[:,1])\n",
        "print(my_data.dtype) #datatype of mumpy array\n",
        "intdata= my_data.astype(int) #converting into integer\n",
        "print(intdata.dtype)\n",
        "print(np.transpose(my_data).shape) #Size of the transpose of the matrix\n",
        "\n"
      ],
      "execution_count": null,
      "outputs": [
        {
          "output_type": "stream",
          "text": [
            "[[2. 2. 4. ... 2. 1. 1.]\n",
            " [4. 4. 4. ... 2. 2. 1.]\n",
            " [2. 2. 2. ... 2. 2. 1.]\n",
            " ...\n",
            " [1. 1. 0. ... 0. 0. 0.]\n",
            " [0. 0. 0. ... 3. 1. 0.]\n",
            " [0. 0. 0. ... 3. 1. 0.]]\n",
            "(170, 55)\n",
            "float64\n",
            "int64\n",
            "(55, 170)\n"
          ],
          "name": "stdout"
        }
      ]
    },
    {
      "cell_type": "code",
      "metadata": {
        "id": "zcPyF2OR0E78",
        "colab_type": "code",
        "colab": {}
      },
      "source": [
        "#Plotting the graph"
      ],
      "execution_count": null,
      "outputs": []
    },
    {
      "cell_type": "markdown",
      "metadata": {
        "id": "kJuP-S0J0Rbr",
        "colab_type": "text"
      },
      "source": [
        "# New Section"
      ]
    },
    {
      "cell_type": "code",
      "metadata": {
        "id": "94cucj930E8A",
        "colab_type": "code",
        "colab": {
          "base_uri": "https://localhost:8080/",
          "height": 265
        },
        "outputId": "d9abc545-8c6e-45e7-c82a-bde687c46b87"
      },
      "source": [
        "x= my_data[:,1]\n",
        "#print(x.shape)\n",
        "y= my_data[:,2]\n",
        "#print(y.shape)\n",
        "#print(x,y)\n",
        "plt.scatter(x,y)\n",
        "plt.show()\n"
      ],
      "execution_count": null,
      "outputs": [
        {
          "output_type": "display_data",
          "data": {
            "image/png": "[encoded data removed]",
            "text/plain": [
              "<Figure size 432x288 with 1 Axes>"
            ]
          },
          "metadata": {
            "tags": [],
            "needs_background": "light"
          }
        }
      ]
    },
    {
      "cell_type": "code",
      "metadata": {
        "id": "aXR2cLEx0E8E",
        "colab_type": "code",
        "colab": {}
      },
      "source": [
        "#Linear regression"
      ],
      "execution_count": null,
      "outputs": []
    },
    {
      "cell_type": "code",
      "metadata": {
        "id": "F755PfHm0E8K",
        "colab_type": "code",
        "colab": {
          "base_uri": "https://localhost:8080/",
          "height": 265
        },
        "outputId": "0e36b456-2d18-4edd-8a28-5145397dea76"
      },
      "source": [
        "from scipy import stats\n",
        "slope, intercept, r, p, std_err = stats.linregress(x, y)\n",
        "def myfunc(x):\n",
        "    return slope*x + intercept\n",
        "mymodel = list(map(myfunc, x)) #Run each value of the x array through the function. This will result in a new array with new values for the y-axis\n",
        "\n",
        "plt.scatter(x, y)\n",
        "plt.plot(x, mymodel)\n",
        "plt.show()"
      ],
      "execution_count": null,
      "outputs": [
        {
          "output_type": "display_data",
          "data": {
            "image/png": "[encoded data removed]",
            "text/plain": [
              "<Figure size 432x288 with 1 Axes>"
            ]
          },
          "metadata": {
            "tags": [],
            "needs_background": "light"
          }
        }
      ]
    },
    {
      "cell_type": "code",
      "metadata": {
        "id": "kurQ1QOP0E8P",
        "colab_type": "code",
        "colab": {},
        "outputId": "0daadae6-a9fe-46e6-f256-3998ebb623c1"
      },
      "source": [
        "#import pickle5 as pickle\n",
        "from sklearn.externals import joblib \n",
        "\n",
        "joblib.dump(my_data, 'pickled.pkl') \n",
        "pickled_data = joblib.load('pickled.pkl')\n",
        "print(pickled_data)\n"
      ],
      "execution_count": null,
      "outputs": [
        {
          "output_type": "stream",
          "text": [
            "[[2. 2. 4. ... 2. 1. 1.]\n",
            " [4. 4. 4. ... 2. 2. 1.]\n",
            " [2. 2. 2. ... 2. 2. 1.]\n",
            " ...\n",
            " [1. 1. 0. ... 0. 0. 0.]\n",
            " [0. 0. 0. ... 3. 1. 0.]\n",
            " [0. 0. 0. ... 3. 1. 0.]]\n"
          ],
          "name": "stdout"
        }
      ]
    },
    {
      "cell_type": "code",
      "metadata": {
        "id": "KUnTcX7T0E8T",
        "colab_type": "code",
        "colab": {
          "base_uri": "https://localhost:8080/",
          "height": 50
        },
        "outputId": "58928a7f-ce1c-405d-9a96-b15dc797d9e7"
      },
      "source": [
        "!pip install pydicom\n",
        "!pip install pillow\n",
        "\n"
      ],
      "execution_count": null,
      "outputs": [
        {
          "output_type": "stream",
          "text": [
            "Requirement already satisfied: pydicom in /usr/local/lib/python3.6/dist-packages (2.0.0)\n",
            "Requirement already satisfied: pillow in /usr/local/lib/python3.6/dist-packages (7.0.0)\n"
          ],
          "name": "stdout"
        }
      ]
    },
    {
      "cell_type": "code",
      "metadata": {
        "id": "lkNsPAvP1X02",
        "colab_type": "code",
        "colab": {}
      },
      "source": [
        ""
      ],
      "execution_count": null,
      "outputs": []
    },
    {
      "cell_type": "code",
      "metadata": {
        "id": "7OI-5_JX1ab5",
        "colab_type": "code",
        "colab": {
          "base_uri": "https://localhost:8080/",
          "height": 363
        },
        "outputId": "dc069195-f5a9-4a56-e07a-e20779113296"
      },
      "source": [
        "\n",
        "import pydicom as dicom\n",
        "from PIL import Image \n",
        "import matplotlib.pylab as plt\n",
        "import numpy as np\n",
        "from numpy import asarray\n",
        "\n",
        "ds = dicom.read_file('0002.DCM')\n",
        "\n",
        "#print(ds)\n",
        "print(ds.pixel_array)\n",
        "print(ds.Rows,ds.Columns)\n",
        "data2 = asarray(ds)\n",
        "print(data2.shape)\n",
        "#print(data2.)\n",
        "\n",
        "print(ds.ImageType)\n",
        "#plt.imshow(ds.pixel_array,plt.cm.bone)\n",
        "#plt.show()\n"
      ],
      "execution_count": null,
      "outputs": [
        {
          "output_type": "error",
          "ename": "ModuleNotFoundError",
          "evalue": "ignored",
          "traceback": [
            "\u001b[0;31m---------------------------------------------------------------------------\u001b[0m",
            "\u001b[0;31mModuleNotFoundError\u001b[0m                       Traceback (most recent call last)",
            "\u001b[0;32m<ipython-input-2-f2b26b18c5ab>\u001b[0m in \u001b[0;36m<module>\u001b[0;34m()\u001b[0m\n\u001b[1;32m      1\u001b[0m \u001b[0;34m\u001b[0m\u001b[0m\n\u001b[0;32m----> 2\u001b[0;31m \u001b[0;32mimport\u001b[0m \u001b[0mpydicom\u001b[0m \u001b[0;32mas\u001b[0m \u001b[0mdicom\u001b[0m\u001b[0;34m\u001b[0m\u001b[0;34m\u001b[0m\u001b[0m\n\u001b[0m\u001b[1;32m      3\u001b[0m \u001b[0;32mfrom\u001b[0m \u001b[0mPIL\u001b[0m \u001b[0;32mimport\u001b[0m \u001b[0mImage\u001b[0m\u001b[0;34m\u001b[0m\u001b[0;34m\u001b[0m\u001b[0m\n\u001b[1;32m      4\u001b[0m \u001b[0;32mimport\u001b[0m \u001b[0mmatplotlib\u001b[0m\u001b[0;34m.\u001b[0m\u001b[0mpylab\u001b[0m \u001b[0;32mas\u001b[0m \u001b[0mplt\u001b[0m\u001b[0;34m\u001b[0m\u001b[0;34m\u001b[0m\u001b[0m\n\u001b[1;32m      5\u001b[0m \u001b[0;32mimport\u001b[0m \u001b[0mnumpy\u001b[0m \u001b[0;32mas\u001b[0m \u001b[0mnp\u001b[0m\u001b[0;34m\u001b[0m\u001b[0;34m\u001b[0m\u001b[0m\n",
            "\u001b[0;31mModuleNotFoundError\u001b[0m: No module named 'pydicom'",
            "",
            "\u001b[0;31m---------------------------------------------------------------------------\u001b[0;32m\nNOTE: If your import is failing due to a missing package, you can\nmanually install dependencies using either !pip or !apt.\n\nTo view examples of installing some common dependencies, click the\n\"Open Examples\" button below.\n\u001b[0;31m---------------------------------------------------------------------------\u001b[0m\n"
          ]
        }
      ]
    },
    {
      "cell_type": "code",
      "metadata": {
        "id": "EVEA-m5c1cd0",
        "colab_type": "code",
        "colab": {}
      },
      "source": [
        ""
      ],
      "execution_count": null,
      "outputs": []
    }
  ]
}