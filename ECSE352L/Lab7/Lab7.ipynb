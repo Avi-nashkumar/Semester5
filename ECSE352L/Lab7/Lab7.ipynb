{
 "cells": [
  {
   "cell_type": "code",
   "execution_count": 15,
   "metadata": {},
   "outputs": [],
   "source": [
    "import random\n",
    "from hashlib import sha256\n",
    "\n",
    "\n"
   ]
  },
  {
   "cell_type": "code",
   "execution_count": null,
   "metadata": {},
   "outputs": [],
   "source": []
  },
  {
   "cell_type": "code",
   "execution_count": 16,
   "metadata": {},
   "outputs": [],
   "source": [
    "def coprime(a, b):\n",
    "    while b != 0:\n",
    "        a, b = b, a % b\n",
    "    return a"
   ]
  },
  {
   "cell_type": "code",
   "execution_count": 17,
   "metadata": {},
   "outputs": [],
   "source": [
    "def extended_gcd(aa, bb):\n",
    "    r1, r2 = abs(aa), abs(bb)\n",
    "    s1, s2, t1, t2 = 0, 1, 1, 0\n",
    "    while r2:\n",
    "        r1, (q, r2) = r2, divmod(r1, r2)\n",
    "        s1, s2 = s2 - q*s1, s1\n",
    "        t1, t2 = t2 - q*t1, t1\n",
    "    return r1, s2 * (-1 if aa < 0 else 1), t2 * (-1 if bb < 0 else 1)"
   ]
  },
  {
   "cell_type": "code",
   "execution_count": 18,
   "metadata": {},
   "outputs": [],
   "source": [
    "def modinv(a, m):\n",
    "    g, x, y = extended_gcd(a, m)\n",
    "    if g != 1:\n",
    "        raise Exception('Modular inverse does not exist')\n",
    "    return x % m "
   ]
  },
  {
   "cell_type": "code",
   "execution_count": 19,
   "metadata": {},
   "outputs": [],
   "source": [
    "def is_prime(num):\n",
    "    if num == 2:\n",
    "        return True\n",
    "    if num < 2 or num % 2 == 0:\n",
    "        return False\n",
    "    for n in range(3, int(num**0.5)+2, 2):\n",
    "        if num % n == 0:\n",
    "            return False\n",
    "    return True"
   ]
  },
  {
   "cell_type": "code",
   "execution_count": 26,
   "metadata": {},
   "outputs": [],
   "source": [
    "def generate_keypair(p, q):\n",
    "    if not (is_prime(p) and is_prime(q)):\n",
    "        raise ValueError('Both numbers must be prime.')\n",
    "    elif p == q:\n",
    "        raise ValueError('p and q cannot be equal')\n",
    "\n",
    "    n = p * q\n",
    "\n",
    "    #Phi is the totient of n\n",
    "    phi = (p-1) * (q-1)\n",
    "\n",
    "    #Choose an integer e such that e and phi(n) are coprime\n",
    "    e = random.randrange(1, phi)\n",
    "\n",
    "    #Use Euclid's Algorithm to verify that e and phi(n) are comprime \n",
    "    g = coprime(e, phi)\n",
    "  \n",
    "    while g != 1:\n",
    "        e = random.randrange(1, phi)\n",
    "        g = coprime(e, phi)\n",
    "\n",
    "    #Use Extended Euclid's Algorithm to generate the private key\n",
    "    d = modinv(e, phi)\n",
    "\n",
    "    #Return public and private keypair\n",
    "    #Public key is (e, n) and private key is (d, n)\n",
    "    return ((e, n), (d, n))"
   ]
  },
  {
   "cell_type": "code",
   "execution_count": 21,
   "metadata": {},
   "outputs": [],
   "source": [
    "def encrypt(privatek, plaintext):\n",
    "    #Unpack the key into it's components\n",
    "    key, n = privatek\n",
    "\n",
    "    #Convert each letter in the plaintext to numbers based on the character using a^b mod m\n",
    "            \n",
    "    numberRepr = [ord(char) for char in plaintext]\n",
    "    print(\"Number representation before encryption: \", numberRepr)\n",
    "    cipher = [pow(ord(char),key,n) for char in plaintext]\n",
    "    \n",
    "    #Return the array of bytes\n",
    "    return cipher"
   ]
  },
  {
   "cell_type": "code",
   "execution_count": 22,
   "metadata": {},
   "outputs": [],
   "source": [
    "def decrypt(publick, ciphertext):\n",
    "    #Unpack the key into its components\n",
    "    key, n = publick\n",
    "       \n",
    "    #Generate the plaintext based on the ciphertext and key using a^b mod m\n",
    "    numberRepr = [pow(char, key, n) for char in ciphertext]\n",
    "    plain = [chr(pow(char, key, n)) for char in ciphertext]\n",
    "\n",
    "    print(\"Decrypted number representation is: \", numberRepr)\n",
    "    \n",
    "    #Return the array of bytes as a string\n",
    "    return ''.join(plain)"
   ]
  },
  {
   "cell_type": "code",
   "execution_count": 23,
   "metadata": {},
   "outputs": [],
   "source": [
    "def hashFunction(message):\n",
    "    hashed = sha256(message.encode(\"UTF-8\")).hexdigest()\n",
    "    return hashed"
   ]
  },
  {
   "cell_type": "code",
   "execution_count": 24,
   "metadata": {},
   "outputs": [],
   "source": [
    "def verify(receivedHashed, message):\n",
    "    ourHashed = hashFunction(message)\n",
    "    if receivedHashed == ourHashed:\n",
    "        print(\"Verification successful: \", )\n",
    "        print(receivedHashed, \" = \", ourHashed)\n",
    "    else:\n",
    "        \n",
    "        print(\"Verification failed\")\n",
    "        print(receivedHashed, \" != \", ourHashed)"
   ]
  },
  {
   "cell_type": "code",
   "execution_count": 27,
   "metadata": {},
   "outputs": [
    {
     "name": "stdout",
     "output_type": "stream",
     "text": [
      "Enter a prime number (17, 19, 23, etc): 23\n",
      "Enter another prime number (Not one you entered above): 11\n",
      "Generating your public/private keypairs now . . .\n",
      "Your public key is  (201, 253)  and your private key is  (81, 253)\n",
      "Enter a message to encrypt with your private key: avinash\n",
      "\n",
      "Encrypting message with private key  (81, 253)  . . .\n",
      "Number representation before encryption:  [53, 52, 102, 98, 101, 57, 50, 51, 52, 56, 54, 97, 52, 100, 49, 54, 48, 50, 49, 53, 52, 50, 102, 52, 98, 98, 53, 102, 52, 98, 100, 55, 54, 100, 53, 56, 102, 51, 51, 101, 48, 97, 57, 57, 101, 48, 100, 53, 53, 49, 49, 54, 48, 97, 51, 53, 101, 100, 52, 51, 101, 101, 98, 55]\n",
      "Your encrypted hashed message is: \n",
      "15282125416779722498166186428232104186246721041528722128545415221285423212118623215216621224924916724642797916724623215215210410418624642249152167232824916716754121\n",
      "\n",
      "Decrypting message with public key  (201, 253)  . . .\n",
      "Decrypted number representation is:  [53, 52, 102, 98, 101, 57, 50, 51, 52, 56, 54, 97, 52, 100, 49, 54, 48, 50, 49, 53, 52, 50, 102, 52, 98, 98, 53, 102, 52, 98, 100, 55, 54, 100, 53, 56, 102, 51, 51, 101, 48, 97, 57, 57, 101, 48, 100, 53, 53, 49, 49, 54, 48, 97, 51, 53, 101, 100, 52, 51, 101, 101, 98, 55]\n",
      "Your decrypted message is:\n",
      "54fbe923486a4d16021542f4bb5f4bd76d58f33e0a99e0d551160a35ed43eeb7\n",
      "\n",
      "Verification process . . .\n",
      "Verification successful: \n",
      "54fbe923486a4d16021542f4bb5f4bd76d58f33e0a99e0d551160a35ed43eeb7  =  54fbe923486a4d16021542f4bb5f4bd76d58f33e0a99e0d551160a35ed43eeb7\n"
     ]
    }
   ],
   "source": [
    "p = int(input(\"Enter a prime number (17, 19, 23, etc): \"))\n",
    "q = int(input(\"Enter another prime number (Not one you entered above): \"))   \n",
    "#p = 17\n",
    "#q=23\n",
    "\n",
    "\n",
    "print(\"Generating your public/private keypairs now . . .\")\n",
    "public, private = generate_keypair(p, q)\n",
    "\n",
    "print(\"Your public key is \", public ,\" and your private key is \", private)\n",
    "message = input(\"Enter a message to encrypt with your private key: \")\n",
    "print(\"\")\n",
    "\n",
    "hashed = hashFunction(message)\n",
    "\n",
    "print(\"Encrypting message with private key \", private ,\" . . .\")\n",
    "encrypted_msg = encrypt(private, hashed)   \n",
    "print(\"Your encrypted hashed message is: \")\n",
    "print(''.join(map(lambda x: str(x), encrypted_msg)))\n",
    "#print(encrypted_msg)\n",
    "\n",
    "print(\"\")\n",
    "print(\"Decrypting message with public key \", public ,\" . . .\")\n",
    "\n",
    "decrypted_msg = decrypt(public, encrypted_msg)\n",
    "print(\"Your decrypted message is:\")  \n",
    "print(decrypted_msg)\n",
    "\n",
    "print(\"\")\n",
    "print(\"Verification process . . .\")\n",
    "verify(decrypted_msg, message)"
   ]
  },
  {
   "cell_type": "code",
   "execution_count": null,
   "metadata": {},
   "outputs": [],
   "source": []
  }
 ],
 "metadata": {
  "kernelspec": {
   "display_name": "Python 3",
   "language": "python",
   "name": "python3"
  },
  "language_info": {
   "codemirror_mode": {
    "name": "ipython",
    "version": 3
   },
   "file_extension": ".py",
   "mimetype": "text/x-python",
   "name": "python",
   "nbconvert_exporter": "python",
   "pygments_lexer": "ipython3",
   "version": "3.6.5"
  }
 },
 "nbformat": 4,
 "nbformat_minor": 2
}
