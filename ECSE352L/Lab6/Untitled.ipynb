{
 "cells": [
  {
   "cell_type": "code",
   "execution_count": 1,
   "metadata": {},
   "outputs": [],
   "source": [
    "def isPrime(n):\n",
    "    prime=True\n",
    "    if n > 1:\n",
    "   \n",
    "       for i in range(2,n):\n",
    "           if (n % i) == 0:\n",
    "                prime=False\n",
    "\n",
    "                break\n",
    "    return prime\n",
    "    \n",
    "    "
   ]
  },
  {
   "cell_type": "code",
   "execution_count": 15,
   "metadata": {},
   "outputs": [
    {
     "name": "stdout",
     "output_type": "stream",
     "text": [
      "Enter prime number:11\n",
      "Enter alpha:7\n",
      "Enter your private key:3\n",
      "your public key is: 2\n"
     ]
    }
   ],
   "source": [
    "from decimal import *\n",
    "\n",
    "\n",
    "def generateKey(q,alpha,privateKey):\n",
    "    if(privateKey>q):\n",
    "        print(\"choose the right private key. Not meeting the criteria\")\n",
    "    else:\n",
    "        a=pow(alpha,privateKey)\n",
    "        pk1= a%q\n",
    "        \n",
    "    \n",
    "        \n",
    "    return pk1\n",
    "q=int(input(\"Enter prime number:\"))\n",
    "alpha= int(input(\"Enter alpha:\"))\n",
    "privateKey=int(input(\"Enter your private key:\"))\n",
    "publicKey=generateKey(q,alpha,privateKey)\n",
    "print(\"your public key is:\",publicKey)\n",
    "        \n",
    "        "
   ]
  },
  {
   "cell_type": "code",
   "execution_count": 17,
   "metadata": {},
   "outputs": [
    {
     "name": "stdout",
     "output_type": "stream",
     "text": [
      "10\n"
     ]
    }
   ],
   "source": [
    "def computeSession(pk,q,prk):\n",
    "    \n",
    "    session= (pk**prk)%q\n",
    "    return session\n",
    "print(computeSession(10,q,3))\n",
    "    "
   ]
  },
  {
   "cell_type": "code",
   "execution_count": 20,
   "metadata": {},
   "outputs": [
    {
     "name": "stdout",
     "output_type": "stream",
     "text": [
      "G\n",
      "u\n",
      "r\n",
      "u\n",
      "9\n",
      "9\n"
     ]
    }
   ],
   "source": [
    "import time\n",
    "my_message = \"Guru99\"\n",
    "for i in my_message:\n",
    "   print(i)\n",
    "   time.sleep(0)"
   ]
  },
  {
   "cell_type": "code",
   "execution_count": 22,
   "metadata": {},
   "outputs": [
    {
     "name": "stdout",
     "output_type": "stream",
     "text": [
      "65\n"
     ]
    }
   ],
   "source": []
  },
  {
   "cell_type": "code",
   "execution_count": null,
   "metadata": {},
   "outputs": [],
   "source": []
  }
 ],
 "metadata": {
  "kernelspec": {
   "display_name": "Python 3",
   "language": "python",
   "name": "python3"
  },
  "language_info": {
   "codemirror_mode": {
    "name": "ipython",
    "version": 3
   },
   "file_extension": ".py",
   "mimetype": "text/x-python",
   "name": "python",
   "nbconvert_exporter": "python",
   "pygments_lexer": "ipython3",
   "version": "3.6.5"
  }
 },
 "nbformat": 4,
 "nbformat_minor": 2
}
