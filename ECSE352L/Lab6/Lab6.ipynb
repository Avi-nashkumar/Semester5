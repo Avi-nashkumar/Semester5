{
 "cells": [
  {
   "cell_type": "code",
   "execution_count": 1,
   "metadata": {},
   "outputs": [],
   "source": [
    "def isPrime(n):\n",
    "    prime=True\n",
    "    if n > 1:\n",
    "   \n",
    "       for i in range(2,n):\n",
    "           if (n % i) == 0:\n",
    "                prime=False\n",
    "\n",
    "                break\n",
    "    return prime\n",
    "    \n",
    "    "
   ]
  },
  {
   "cell_type": "code",
   "execution_count": 15,
   "metadata": {},
   "outputs": [
    {
     "name": "stdout",
     "output_type": "stream",
     "text": [
      "Enter prime number:11\n",
      "Enter alpha:7\n",
      "Enter your private key:3\n",
      "your public key is: 2\n"
     ]
    }
   ],
   "source": [
    "from decimal import *\n",
    "\n",
    "\n",
    "def generateKey(q,alpha,privateKey):\n",
    "    if(privateKey>q):\n",
    "        print(\"choose the right private key. Not meeting the criteria\")\n",
    "    else:\n",
    "        a=pow(alpha,privateKey)\n",
    "        pk1= a%q\n",
    "        \n",
    "    \n",
    "        \n",
    "    return pk1\n",
    "q=int(input(\"Enter prime number:\"))\n",
    "alpha= int(input(\"Enter alpha:\"))\n",
    "privateKey=int(input(\"Enter your private key:\"))\n",
    "publicKey=generateKey(q,alpha,privateKey)\n",
    "print(\"your public key is:\",publicKey)\n",
    "        \n",
    "        "
   ]
  },
  {
   "cell_type": "code",
   "execution_count": 17,
   "metadata": {},
   "outputs": [
    {
     "name": "stdout",
     "output_type": "stream",
     "text": [
      "10\n"
     ]
    }
   ],
   "source": [
    "def computeSession(pk,q,prk):\n",
    "    \n",
    "    session= (pk**prk)%q\n",
    "    return session\n",
    "print(computeSession(10,q,3))\n",
    "    "
   ]
  },
  {
   "cell_type": "code",
   "execution_count": 20,
   "metadata": {},
   "outputs": [
    {
     "name": "stdout",
     "output_type": "stream",
     "text": [
      "G\n",
      "u\n",
      "r\n",
      "u\n",
      "9\n",
      "9\n"
     ]
    }
   ],
   "source": [
    "import time\n",
    "my_message = \"Guru99\"\n",
    "for i in my_message:\n",
    "   print(i)\n",
    "   time.sleep(0)"
   ]
  },
  {
   "cell_type": "code",
   "execution_count": 2,
   "metadata": {},
   "outputs": [
    {
     "name": "stdout",
     "output_type": "stream",
     "text": [
      "A\n"
     ]
    }
   ],
   "source": [
    "print(chr(65))"
   ]
  },
  {
   "cell_type": "code",
   "execution_count": 13,
   "metadata": {},
   "outputs": [
    {
     "name": "stdout",
     "output_type": "stream",
     "text": [
      "OLSSV\n"
     ]
    }
   ],
   "source": [
    "def encryption(text,sessionKey):\n",
    "    enctext=\"\"\n",
    "    for i in range (0,len(text)):\n",
    "        enctext+= chr((ord(text[i])+sessionKey)%26 +65)\n",
    "    return enctext\n",
    "print(encryption(\"HELLO\",20))"
   ]
  },
  {
   "cell_type": "code",
   "execution_count": 16,
   "metadata": {},
   "outputs": [
    {
     "name": "stdout",
     "output_type": "stream",
     "text": [
      "HELLO\n"
     ]
    }
   ],
   "source": [
    "def decryption(cipheredText,sessionKey):\n",
    "    dectext=\"\"\n",
    "    for i in range (0,len(cipheredText)):\n",
    "        dectext+=chr((ord(cipheredText[i])-sessionKey)%26+65)\n",
    "    return dectext\n",
    "print(decryption(\"OLSSV\",20))"
   ]
  },
  {
   "cell_type": "code",
   "execution_count": null,
   "metadata": {},
   "outputs": [],
   "source": [
    "import socket\n",
    "def client_program():\n",
    "    host = socket.gethostname()  \n",
    "    port = 5000  \n",
    "\n",
    "    client_socket = socket.socket()  \n",
    "    client_socket.connect((host, port))  \n",
    "\n",
    "    message = input(\" -> \")  \n",
    "\n",
    "    while message.lower().strip() != 'bye':\n",
    "        client_socket.send(message.encode())  \n",
    "        data = client_socket.recv(1024).decode()  \n",
    "\n",
    "        print('Received from server: ' + data)  \n",
    "\n",
    "        message = input(\" -> \")  \n",
    "\n",
    "    client_socket.close()  \n",
    "\n",
    "\n",
    "if __name__ == '__main__':\n",
    "    client_program()\n"
   ]
  },
  {
   "cell_type": "code",
   "execution_count": null,
   "metadata": {},
   "outputs": [],
   "source": [
    "def server_program():\n",
    "    \n",
    "    host = socket.gethostname()\n",
    "    port = 5000  \n",
    "\n",
    "    server_socket = socket.socket()  \n",
    "    \n",
    "    server_socket.bind((host, port))  \n",
    "\n",
    "   \n",
    "    server_socket.listen(2)\n",
    "    conn, address = server_socket.accept()  \n",
    "    print(\"Connection from: \" + str(address))\n",
    "    while True:\n",
    "        \n",
    "        data = conn.recv(1024).decode()\n",
    "        if not data:\n",
    "            \n",
    "            break\n",
    "        print(\"from connected user: \" + str(data))\n",
    "        data = input(' -> ')\n",
    "        conn.send(data.encode())  \n",
    "\n",
    "    conn.close()  \n",
    "if __name__ == '__main__':\n",
    "    server_program()"
   ]
  },
  {
   "cell_type": "code",
   "execution_count": null,
   "metadata": {},
   "outputs": [],
   "source": []
  }
 ],
 "metadata": {
  "kernelspec": {
   "display_name": "Python 3",
   "language": "python",
   "name": "python3"
  },
  "language_info": {
   "codemirror_mode": {
    "name": "ipython",
    "version": 3
   },
   "file_extension": ".py",
   "mimetype": "text/x-python",
   "name": "python",
   "nbconvert_exporter": "python",
   "pygments_lexer": "ipython3",
   "version": "3.6.5"
  }
 },
 "nbformat": 4,
 "nbformat_minor": 2
}
