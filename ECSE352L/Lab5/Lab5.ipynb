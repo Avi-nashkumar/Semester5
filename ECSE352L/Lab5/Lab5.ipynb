{
 "cells": [
  {
   "cell_type": "code",
   "execution_count": 66,
   "metadata": {},
   "outputs": [
    {
     "name": "stdout",
     "output_type": "stream",
     "text": [
      "True\n"
     ]
    }
   ],
   "source": [
    "#function to check prime numbers\n",
    "\n",
    "def isPrime(n):\n",
    "    prime=True\n",
    "    if n > 1:\n",
    "   \n",
    "       for i in range(2,n):\n",
    "           if (n % i) == 0:\n",
    "                prime=False\n",
    "\n",
    "                break\n",
    "    return prime\n",
    "print(isPrime(17))\n",
    "\n",
    "        \n",
    "    "
   ]
  },
  {
   "cell_type": "code",
   "execution_count": 67,
   "metadata": {},
   "outputs": [],
   "source": [
    "#function to generate random prime numbers\n",
    "import random\n",
    "def randomNumbers(n1,n2):\n",
    "    p=0\n",
    "    q=0\n",
    "    randomlist = []\n",
    "    final_list=[]\n",
    "    for i in range(n1,n2):\n",
    "        n = random.randint(n1,n2)\n",
    "        if(isPrime(n)):\n",
    "            randomlist.append(n)\n",
    "    for num in randomlist:\n",
    "        if num not in final_list: \n",
    "            final_list.append(num)\n",
    "    \n",
    "    return final_list\n",
    "#print(randomNumbers(500,1000))\n",
    "    \n",
    "    "
   ]
  },
  {
   "cell_type": "code",
   "execution_count": 68,
   "metadata": {},
   "outputs": [
    {
     "name": "stdout",
     "output_type": "stream",
     "text": [
      "1\n"
     ]
    }
   ],
   "source": [
    "#function to check if gcd of e and phi_n is 1\n",
    "def gcd(a,b): \n",
    "    if(b==0): \n",
    "        return a \n",
    "    else: \n",
    "        return gcd(b,a%b) \n",
    "  \n",
    "\n",
    "print(gcd(13,2)) "
   ]
  },
  {
   "cell_type": "code",
   "execution_count": 69,
   "metadata": {},
   "outputs": [
    {
     "name": "stdout",
     "output_type": "stream",
     "text": [
      "37   43\n"
     ]
    }
   ],
   "source": [
    "x=randomNumbers(20,50) #can be user input\n",
    "p=x[0]\n",
    "q=x[1]\n",
    "print(p,\" \",q)"
   ]
  },
  {
   "cell_type": "code",
   "execution_count": 78,
   "metadata": {},
   "outputs": [
    {
     "name": "stdout",
     "output_type": "stream",
     "text": [
      "Value of n= 1591\n",
      "value of phi_n= 1512\n",
      "Public key: [5, 1591]\n",
      "Private Key [605.0, 1512]\n"
     ]
    },
    {
     "ename": "OverflowError",
     "evalue": "(34, 'Result too large')",
     "output_type": "error",
     "traceback": [
      "\u001b[1;31m---------------------------------------------------------------------------\u001b[0m",
      "\u001b[1;31mOverflowError\u001b[0m                             Traceback (most recent call last)",
      "\u001b[1;32m<ipython-input-78-c82bee44101c>\u001b[0m in \u001b[0;36m<module>\u001b[1;34m()\u001b[0m\n\u001b[0;32m     55\u001b[0m \u001b[1;33m\u001b[0m\u001b[0m\n\u001b[0;32m     56\u001b[0m \u001b[1;33m\u001b[0m\u001b[0m\n\u001b[1;32m---> 57\u001b[1;33m \u001b[0mgeneratekey\u001b[0m\u001b[1;33m(\u001b[0m\u001b[0mp\u001b[0m\u001b[1;33m,\u001b[0m\u001b[0mq\u001b[0m\u001b[1;33m,\u001b[0m\u001b[1;36m8\u001b[0m\u001b[1;33m)\u001b[0m\u001b[1;33m\u001b[0m\u001b[0m\n\u001b[0m\u001b[0;32m     58\u001b[0m \u001b[1;33m\u001b[0m\u001b[0m\n\u001b[0;32m     59\u001b[0m \u001b[1;33m\u001b[0m\u001b[0m\n",
      "\u001b[1;32m<ipython-input-78-c82bee44101c>\u001b[0m in \u001b[0;36mgeneratekey\u001b[1;34m(a, b, text)\u001b[0m\n\u001b[0;32m     45\u001b[0m     \u001b[0mgetcontext\u001b[0m\u001b[1;33m(\u001b[0m\u001b[1;33m)\u001b[0m\u001b[1;33m.\u001b[0m\u001b[0mprec\u001b[0m \u001b[1;33m=\u001b[0m \u001b[1;36m6\u001b[0m\u001b[1;33m\u001b[0m\u001b[0m\n\u001b[0;32m     46\u001b[0m     \u001b[0mto_depower\u001b[0m\u001b[1;33m=\u001b[0m\u001b[0mDecimal\u001b[0m\u001b[1;33m(\u001b[0m\u001b[1;36m0\u001b[0m\u001b[1;33m)\u001b[0m\u001b[1;33m\u001b[0m\u001b[0m\n\u001b[1;32m---> 47\u001b[1;33m     \u001b[0mto_depower\u001b[0m\u001b[1;33m=\u001b[0m\u001b[0mpow\u001b[0m\u001b[1;33m(\u001b[0m\u001b[0mencrypted\u001b[0m\u001b[1;33m,\u001b[0m\u001b[0md\u001b[0m\u001b[1;33m)\u001b[0m\u001b[1;33m\u001b[0m\u001b[0m\n\u001b[0m\u001b[0;32m     48\u001b[0m     \u001b[0mgetcontext\u001b[0m\u001b[1;33m(\u001b[0m\u001b[1;33m)\u001b[0m\u001b[1;33m.\u001b[0m\u001b[0mprec\u001b[0m \u001b[1;33m=\u001b[0m \u001b[1;36m6\u001b[0m\u001b[1;33m\u001b[0m\u001b[0m\n\u001b[0;32m     49\u001b[0m     \u001b[0mdecrypted\u001b[0m\u001b[1;33m=\u001b[0m\u001b[0mto_depower\u001b[0m\u001b[1;33m%\u001b[0m\u001b[0mn\u001b[0m\u001b[1;33m\u001b[0m\u001b[0m\n",
      "\u001b[1;31mOverflowError\u001b[0m: (34, 'Result too large')"
     ]
    }
   ],
   "source": [
    "from decimal import Decimal \n",
    "from decimal import *\n",
    "def generatekey(a,b,text):\n",
    "    n=a*b\n",
    "    phi_n=(a-1)*(b-1)\n",
    "    publicKey=[]\n",
    "    privateKey=[]\n",
    "    e1=[]\n",
    "    publicKey.append(n)\n",
    "    privateKey.append(phi_n)\n",
    "    \n",
    "    phi_n=(a-1)*(b-1)\n",
    "    print(\"Value of n=\",n)\n",
    "    print(\"value of phi_n=\",phi_n)\n",
    "    \n",
    "    \n",
    "    \n",
    "   # Public Key calculation\n",
    "    for e in range(2,phi_n):\n",
    "        if((gcd(phi_n,e))==1):\n",
    "            break\n",
    "        \n",
    "   \n",
    "    publicKey.append(e)\n",
    "    publicKey.sort()\n",
    "    print(\"Public key:\",publicKey)\n",
    "    \n",
    "    #Private key calculation\n",
    "    k=2\n",
    "    d= (1 + (k * phi_n))/e\n",
    "    privateKey.append(d)\n",
    "    privateKey.sort()\n",
    "    print(\"Private Key\",privateKey)\n",
    "    \n",
    "    \n",
    "    \n",
    "    #encryption algorithm\n",
    "    getcontext().prec = 6\n",
    "    to_power=Decimal(0)\n",
    "    to_power=pow(text,e)\n",
    "    encrypted=to_power%n\n",
    "    \n",
    "    \n",
    "    #decryption algorithm\n",
    "    getcontext().prec = 6\n",
    "    to_depower=Decimal(0)\n",
    "    to_depower=pow(encrypted,d)\n",
    "    getcontext().prec = 6\n",
    "    decrypted=to_depower%n\n",
    "    \n",
    "    \n",
    "    \n",
    "    \n",
    "    \n",
    "    \n",
    "\n",
    "generatekey(p,q,8)\n",
    "\n",
    "    \n",
    "    \n",
    "        \n",
    "    "
   ]
  },
  {
   "cell_type": "code",
   "execution_count": null,
   "metadata": {},
   "outputs": [],
   "source": []
  },
  {
   "cell_type": "code",
   "execution_count": null,
   "metadata": {},
   "outputs": [],
   "source": []
  }
 ],
 "metadata": {
  "kernelspec": {
   "display_name": "Python 3",
   "language": "python",
   "name": "python3"
  },
  "language_info": {
   "codemirror_mode": {
    "name": "ipython",
    "version": 3
   },
   "file_extension": ".py",
   "mimetype": "text/x-python",
   "name": "python",
   "nbconvert_exporter": "python",
   "pygments_lexer": "ipython3",
   "version": "3.6.5"
  }
 },
 "nbformat": 4,
 "nbformat_minor": 2
}
