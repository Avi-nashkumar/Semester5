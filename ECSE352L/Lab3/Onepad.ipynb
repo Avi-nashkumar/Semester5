{
 "cells": [
  {
   "cell_type": "code",
   "execution_count": 7,
   "metadata": {},
   "outputs": [
    {
     "name": "stdout",
     "output_type": "stream",
     "text": [
      "Enter Plaintext=1101011\n",
      "[1, 0, 1, 1, 1, 0, 1]\n",
      "Encrypted Text=  0110110\n",
      "Decrypted Text=  1101011\n"
     ]
    }
   ],
   "source": [
    "import random\n",
    "def randomDigits(plaintext):\n",
    "    a=str(plaintext)\n",
    "    c=[]\n",
    "    for i in range(len(a)):\n",
    "        c.append(random.randrange(0,2))\n",
    "    return c\n",
    "    \n",
    "def encryption(plaintext,key):\n",
    "    a=str(plaintext)\n",
    "    \n",
    "    c=[]\n",
    "    if(len(a)!=len(key)):\n",
    "        return \"Enter correct key length\"\n",
    "    else:\n",
    "        for i in range(len(a)):\n",
    "            c.append(int(a[i])^int(key[i]))\n",
    "    return c\n",
    "\n",
    "def decryption(encryptedText,key):\n",
    "    c=[]\n",
    "    for i in range(len(key)):\n",
    "        c.append(encryptedText[i]^key[i])\n",
    "    return c\n",
    "        \n",
    "    \n",
    "\n",
    "\n",
    "\n",
    "\n",
    "plaintext=int(input('Enter Plaintext='))\n",
    "key=randomDigits(plaintext)\n",
    "print(key)\n",
    "encryptedText=encryption(plaintext,key)\n",
    "str1=\" \"\n",
    "str2=\" \"\n",
    "for i in encryptedText:\n",
    "    str1+=str(i)\n",
    "print('Encrypted Text=',str1)\n",
    "\n",
    "decryptedText=decryption(encryptedText,key)\n",
    "for i in decryptedText:\n",
    "    str2+=str(i)\n",
    "print('Decrypted Text=',str2)\n",
    "\n",
    "            "
   ]
  },
  {
   "cell_type": "code",
   "execution_count": null,
   "metadata": {},
   "outputs": [],
   "source": []
  }
 ],
 "metadata": {
  "kernelspec": {
   "display_name": "Python 3",
   "language": "python",
   "name": "python3"
  },
  "language_info": {
   "codemirror_mode": {
    "name": "ipython",
    "version": 3
   },
   "file_extension": ".py",
   "mimetype": "text/x-python",
   "name": "python",
   "nbconvert_exporter": "python",
   "pygments_lexer": "ipython3",
   "version": "3.6.5"
  }
 },
 "nbformat": 4,
 "nbformat_minor": 2
}
