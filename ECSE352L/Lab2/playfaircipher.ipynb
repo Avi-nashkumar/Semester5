{
 "cells": [
  {
   "cell_type": "code",
   "execution_count": 14,
   "metadata": {},
   "outputs": [
    {
     "name": "stdout",
     "output_type": "stream",
     "text": [
      "RKPAWRPMYSELZCLFXUZFRSNQBPSA\n",
      "DEFENDTHEXASTWALLOFTHECASTLE\n"
     ]
    }
   ],
   "source": [
    "from pycipher import Playfair\n",
    "encrypted_message=Playfair('zgptfoihmuwdrcnykeqaxvsbl').encipher('defend the east wall of the castle')\n",
    "print(encrypted_message)\n",
    "\n",
    "decrypted_message=Playfair('zgptfoihmuwdrcnykeqaxvsbl').decipher(encrypted_message)\n",
    "print(decrypted_message)\n"
   ]
  },
  {
   "cell_type": "code",
   "execution_count": null,
   "metadata": {},
   "outputs": [],
   "source": []
  },
  {
   "cell_type": "code",
   "execution_count": null,
   "metadata": {},
   "outputs": [],
   "source": []
  }
 ],
 "metadata": {
  "kernelspec": {
   "display_name": "Python 3",
   "language": "python",
   "name": "python3"
  },
  "language_info": {
   "codemirror_mode": {
    "name": "ipython",
    "version": 3
   },
   "file_extension": ".py",
   "mimetype": "text/x-python",
   "name": "python",
   "nbconvert_exporter": "python",
   "pygments_lexer": "ipython3",
   "version": "3.6.5"
  }
 },
 "nbformat": 4,
 "nbformat_minor": 2
}
