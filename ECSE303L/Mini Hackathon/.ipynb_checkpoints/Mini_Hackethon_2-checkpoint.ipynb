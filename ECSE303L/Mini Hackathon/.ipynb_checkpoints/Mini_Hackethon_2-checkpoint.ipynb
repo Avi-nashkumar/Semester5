{
 "cells": [
  {
   "cell_type": "code",
   "execution_count": null,
   "metadata": {
    "id": "tc9NmAXfqRtg"
   },
   "outputs": [],
   "source": []
  },
  {
   "cell_type": "markdown",
   "metadata": {
    "id": "zWuau-NFqZTv"
   },
   "source": [
    "**Problem Statement:**\n",
    "\n",
    "Cardiovascular disease is one of the major diseases that threaten human life. According to reports by the world health organization, cardiovascular diseases (CVDs) mortality ranks \u001c",
    "rst in all causes of death today. Over 17.7 million people died from CVDs, which is an about 31 percentages of all deaths. More than 75 percentages of these deaths occurred in developing countries. What's more, the prevalence and mortality of cardiovascular disease (CVD) are still growing. Therefore, regular monitoring of heart rhythm has become an increasingly important and necessary matter so as to manage and prevent the CVDs.\n",
    "Arrhythmia is an important group of diseases in cardiovascular disease. Arrhythmia can occur on its own or with other cardiovascular diseases. The diagnosis of arrhythmia mainly\n",
    "depends on the ECG (electrocardiogram). ECG is an important modern medical tool that records the process of cardiac excitability, transmission, and recovery.\n",
    "Automatic detection of irregular heart rhythms from ECG signals is a signi\u001c",
    "cant task for the automatic diagnosis of cardiovascular disease.\n",
    "\n",
    "This Hackethon is focoused on finding disease frm ECG signal. Multiclass classification problem.  \n",
    "Data:\n",
    "The data contain train and test CSV files. Input for your model is D1-D45 feature column. Target column is Output column which have five classes (Normal, L-BBB, PAC, PVC, R-BBB).\n",
    "\n",
    "Submission- \n",
    "\n",
    "You need to submit <enrollmentno>_test.csv and , <EnrollmentNo>_minihackethonP2.ipynb in the google form:\n",
    "\n",
    "https://forms.gle/wnHpvWHfdT7pjoyx7\n",
    "\n",
    "Hint- Deep learning algoritm can give better performance compare to other ML algotithm.\n"
   ]
  },
  {
   "cell_type": "code",
   "execution_count": null,
   "metadata": {
    "id": "aQuqPyHrvUWk"
   },
   "outputs": [],
   "source": []
  }
 ],
 "metadata": {
  "colab": {
   "name": "Mini Hackethon 2.ipynb",
   "provenance": []
  },
  "kernelspec": {
   "display_name": "Python 3",
   "language": "python",
   "name": "python3"
  },
  "language_info": {
   "codemirror_mode": {
    "name": "ipython",
    "version": 3
   },
   "file_extension": ".py",
   "mimetype": "text/x-python",
   "name": "python",
   "nbconvert_exporter": "python",
   "pygments_lexer": "ipython3",
   "version": "3.6.5"
  }
 },
 "nbformat": 4,
 "nbformat_minor": 1
}
