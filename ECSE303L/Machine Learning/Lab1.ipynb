{
 "cells": [
  {
   "cell_type": "code",
   "execution_count": 24,
   "metadata": {},
   "outputs": [
    {
     "name": "stdout",
     "output_type": "stream",
     "text": [
      "[[2. 2. 4. ... 2. 1. 1.]\n",
      " [4. 4. 4. ... 2. 2. 1.]\n",
      " [2. 2. 2. ... 2. 2. 1.]\n",
      " ...\n",
      " [1. 1. 0. ... 0. 0. 0.]\n",
      " [0. 0. 0. ... 3. 1. 0.]\n",
      " [0. 0. 0. ... 3. 1. 0.]]\n",
      "(170, 55)\n",
      "float64\n",
      "int32\n",
      "(55, 170)\n",
      "(170,)\n",
      "(170,)\n",
      "[2. 4. 2. 2. 2. 0. 3. 1. 2. 1. 4. 4. 4. 4. 4. 4. 4. 4. 3. 4. 3. 3. 4. 3.\n",
      " 2. 3. 3. 3. 4. 3. 4. 3. 3. 4. 4. 3. 3. 3. 3. 3. 2. 2. 4. 3. 2. 3. 3. 3.\n",
      " 2. 3. 2. 3. 3. 3. 3. 3. 4. 4. 3. 2. 2. 2. 2. 2. 3. 3. 3. 2. 3. 4. 3. 2.\n",
      " 3. 3. 2. 4. 2. 2. 2. 2. 0. 4. 4. 3. 0. 0. 0. 0. 0. 0. 1. 0. 1. 1. 0. 0.\n",
      " 3. 0. 0. 1. 0. 0. 0. 0. 0. 0. 0. 0. 0. 0. 0. 1. 0. 2. 1. 1. 0. 0. 0. 1.\n",
      " 0. 2. 0. 0. 1. 0. 0. 0. 0. 0. 0. 1. 0. 2. 0. 0. 0. 0. 0. 1. 2. 1. 3. 0.\n",
      " 0. 0. 1. 0. 0. 1. 3. 1. 0. 2. 0. 1. 0. 1. 1. 0. 0. 1. 0. 0. 1. 0. 0. 1.\n",
      " 0. 0.] [4. 4. 2. 3. 1. 1. 3. 2. 1. 1. 4. 4. 3. 3. 3. 3. 3. 4. 4. 4. 3. 3. 4. 3.\n",
      " 3. 3. 4. 3. 3. 3. 3. 4. 3. 2. 4. 3. 3. 2. 2. 3. 3. 3. 3. 3. 3. 2. 3. 2.\n",
      " 3. 3. 3. 3. 2. 3. 3. 2. 3. 3. 3. 3. 3. 2. 3. 3. 4. 3. 2. 2. 3. 4. 3. 3.\n",
      " 3. 3. 3. 3. 4. 2. 4. 4. 2. 3. 3. 2. 0. 0. 0. 0. 3. 0. 0. 0. 0. 0. 0. 0.\n",
      " 1. 0. 0. 2. 2. 1. 0. 0. 0. 0. 0. 0. 3. 0. 0. 1. 0. 2. 1. 1. 0. 0. 0. 1.\n",
      " 0. 2. 1. 0. 1. 0. 0. 0. 0. 0. 0. 1. 2. 0. 1. 0. 2. 1. 1. 1. 0. 2. 4. 0.\n",
      " 2. 0. 1. 1. 0. 0. 2. 1. 0. 3. 1. 0. 1. 0. 0. 0. 2. 2. 0. 1. 1. 0. 0. 0.\n",
      " 0. 0.]\n"
     ]
    },
    {
     "data": {
      "image/png": "[encoded data removed]",
      "text/plain": [
       "<Figure size 432x288 with 1 Axes>"
      ]
     },
     "metadata": {},
     "output_type": "display_data"
    }
   ],
   "source": [
    "import numpy as np\n",
    "from numpy import genfromtxt\n",
    "import matplotlib.pyplot as plt\n",
    "from scipy import stats\n",
    "\n",
    "#Reading the file\n",
    "\n",
    "my_data = genfromtxt('dataset1.csv', delimiter=',', skip_header=1)\n",
    "print(my_data)\n",
    "\n",
    "#Printing the properties\n",
    "\n",
    "print(my_data.shape) #Rows and columns\n",
    "\n",
    "#print(my_data[:,1])\n",
    "print(my_data.dtype) #datatype of mumpy array\n",
    "intdata= my_data.astype(int) #converting into integer\n",
    "print(intdata.dtype)\n",
    "print(np.transpose(my_data).shape) #Size of the transpose of the matrix\n",
    "\n"
   ]
  },
  {
   "cell_type": "code",
   "execution_count": null,
   "metadata": {},
   "outputs": [],
   "source": [
    "#Plotting the graph"
   ]
  },
  {
   "cell_type": "code",
   "execution_count": 25,
   "metadata": {},
   "outputs": [
    {
     "data": {
      "image/png": "[encoded data removed]",
      "text/plain": [
       "<Figure size 432x288 with 1 Axes>"
      ]
     },
     "metadata": {},
     "output_type": "display_data"
    }
   ],
   "source": [
    "x= my_data[:,1]\n",
    "#print(x.shape)\n",
    "y= my_data[:,2]\n",
    "#print(y.shape)\n",
    "#print(x,y)\n",
    "plt.scatter(x,y)\n",
    "plt.show()\n"
   ]
  },
  {
   "cell_type": "code",
   "execution_count": null,
   "metadata": {},
   "outputs": [],
   "source": [
    "#Linear regression"
   ]
  },
  {
   "cell_type": "code",
   "execution_count": 28,
   "metadata": {},
   "outputs": [
    {
     "data": {
      "image/png": "[encoded data removed]",
      "text/plain": [
       "<Figure size 432x288 with 1 Axes>"
      ]
     },
     "metadata": {},
     "output_type": "display_data"
    }
   ],
   "source": [
    "from scipy import stats\n",
    "slope, intercept, r, p, std_err = stats.linregress(x, y)\n",
    "def myfunc(x):\n",
    "    return slope*x + intercept\n",
    "mymodel = list(map(myfunc, x)) #Run each value of the x array through the function. This will result in a new array with new values for the y-axis\n",
    "\n",
    "plt.scatter(x, y)\n",
    "plt.plot(x, mymodel)\n",
    "plt.show()"
   ]
  },
  {
   "cell_type": "code",
   "execution_count": null,
   "metadata": {},
   "outputs": [],
   "source": []
  }
 ],
 "metadata": {
  "kernelspec": {
   "display_name": "Python 3",
   "language": "python",
   "name": "python3"
  },
  "language_info": {
   "codemirror_mode": {
    "name": "ipython",
    "version": 3
   },
   "file_extension": ".py",
   "mimetype": "text/x-python",
   "name": "python",
   "nbconvert_exporter": "python",
   "pygments_lexer": "ipython3",
   "version": "3.6.5"
  }
 },
 "nbformat": 4,
 "nbformat_minor": 2
}
