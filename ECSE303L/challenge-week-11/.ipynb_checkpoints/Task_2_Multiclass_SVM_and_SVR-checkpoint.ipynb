{
 "cells": [
  {
   "cell_type": "markdown",
   "metadata": {
    "id": "1yGvcerZa0S8"
   },
   "source": [
    "#Objective: To understand the support vector machines for multi-class classification and regression problems.\n",
    "\n",
    "##Multiclass classification dataset:\n",
    "###This is a Glass Identification Data Set from UCI. It contains 10 attributes including id. The response is glass type(discrete 7 values)\n",
    "###Attribute Information:\n",
    "1.\tId number: 1 to 214 (removed from CSV file)\n",
    "2.\tRI: refractive index\n",
    "3.\tNa: Sodium (unit measurement: weight percent in corresponding oxide, as are attributes 4-10)\n",
    "4.\tMg: Magnesium\n",
    "5.\tAl: Aluminum\n",
    "6.\tSi: Silicon\n",
    "7.\tK: Potassium\n",
    "8.\tCa: Calcium\n",
    "9.\tBa: Barium\n",
    "10.\tFe: Iron\n",
    "### Target class\n",
    "Type of glass: (class attribute)\n",
    "-- 1 buildingwindowsfloatprocessed -- 2 buildingwindowsnonfloatprocessed -- 3 vehiclewindowsfloatprocessed\n",
    "-- 4 vehiclewindowsnonfloatprocessed (none in this database)\n",
    "-- 5 containers\n",
    "-- 6 tableware\n",
    "-- 7 headlamps\n",
    "\n",
    "##Regression dataset:\n",
    "Ask a home buyer to describe their dream house, and they probably won't begin with the height of the basement ceiling or the proximity to an east-west railroad. But this playground competition's dataset proves that much more influences price negotiations than the number of bedrooms or a white-picket fence.\n",
    "With 79 explanatory variables describing (almost) every aspect of residential homes in Ames, Iowa, this competition challenges you to predict the final price of each home.\n",
    "\n",
    "\n",
    "###Data fields\n",
    "1.\tMSSubClass: The building class\n",
    "2.\tMSZoning: The general zoning classification\n",
    "3.\tLotFrontage: Linear feet of street connected to property\n",
    "4.\tLotArea: Lot size in square feet\n",
    "5.\tStreet: Type of road access\n",
    "6.\tAlley: Type of alley access\n",
    "7.\tLotShape: General shape of property\n",
    "8.\tLandContour: Flatness of the property\n",
    "9.\tUtilities: Type of utilities available\n",
    "10.\tLotConfig: Lot configuration\n",
    "11.\tLandSlope: Slope of property\n",
    "12.\tNeighborhood: Physical locations within Ames city limits\n",
    "13.\tCondition1: Proximity to main road or railroad\n",
    "14.\tCondition2: Proximity to main road or railroad (if a second is present)\n",
    "15.\tBldgType: Type of dwelling\n",
    "16.\tHouseStyle: Style of dwelling\n",
    "17.\tOverallQual: Overall material and finish quality\n",
    "18.\tOverallCond: Overall condition rating\n",
    "19.\tYearBuilt: Original construction date\n",
    "20.\tYearRemodAdd: Remodel date\n",
    "21.\tRoofStyle: Type of roof\n",
    "22.\tRoofMatl: Roof material\n",
    "23.\tExterior1st: Exterior covering on house\n",
    "24.\tExterior2nd: Exterior covering on house (if more than one material)\n",
    "25.\tMasVnrType: Masonry veneer type\n",
    "26.\tMasVnrArea: Masonry veneer area in square feet\n",
    "27.\tExterQual: Exterior material quality\n",
    "28.\tExterCond: Present condition of the material on the exterior\n",
    "29.\tFoundation: Type of foundation\n",
    "30.\tBsmtQual: Height of the basement\n",
    "31.\tBsmtCond: General condition of the basement\n",
    "32.\tBsmtExposure: Walkout or garden level basement walls\n",
    "33.\tBsmtFinType1: Quality of basement finished area\n",
    "34.\tBsmtFinSF1: Type 1 finished square feet\n",
    "35.\tBsmtFinType2: Quality of second finished area (if present)\n",
    "36.\tBsmtFinSF2: Type 2 finished square feet\n",
    "37.\tBsmtUnfSF: Unfinished square feet of basement area\n",
    "38.\tTotalBsmtSF: Total square feet of basement area\n",
    "39.\tHeating: Type of heating\n",
    "40.\tHeatingQC: Heating quality and condition\n",
    "41.\tCentralAir: Central air conditioning\n",
    "42.\tElectrical: Electrical system\n",
    "43.\t1stFlrSF: First Floor square feet\n",
    "44.\t2ndFlrSF: Second floor square feet\n",
    "45.\tLowQualFinSF: Low quality finished square feet (all floors)\n",
    "46.\tGrLivArea: Above grade (ground) living area square feet\n",
    "47.\tBsmtFullBath: Basement full bathrooms\n",
    "48.\tBsmtHalfBath: Basement half bathrooms\n",
    "49.\tFullBath: Full bathrooms above grade\n",
    "50.\tHalfBath: Half baths above grade\n",
    "51.\tBedroom: Number of bedrooms above basement level\n",
    "52.\tKitchen: Number of kitchens\n",
    "53.\tKitchenQual: Kitchen quality\n",
    "54.\tTotRmsAbvGrd: Total rooms above grade (does not include bathrooms)\n",
    "55.\tFunctional: Home functionality rating\n",
    "56.\tFireplaces: Number of fireplaces\n",
    "57.\tFireplaceQu: Fireplace quality\n",
    "58.\tGarageType: Garage location\n",
    "59.\tGarageYrBlt: Year garage was built\n",
    "60.\tGarageFinish: Interior finish of the garage\n",
    "61.\tGarageCars: Size of garage in car capacity\n",
    "62.\tGarageArea: Size of garage in square feet\n",
    "63.\tGarageQual: Garage quality\n",
    "64.\tGarageCond: Garage condition\n",
    "65.\tPavedDrive: Paved driveway\n",
    "66.\tWoodDeckSF: Wood deck area in square feet\n",
    "67.\tOpenPorchSF: Open porch area in square feet\n",
    "68.\tEnclosedPorch: Enclosed porch area in square feet\n",
    "69.\t3SsnPorch: Three season porch area in square feet\n",
    "70.\tScreenPorch: Screen porch area in square feet\n",
    "71.\tPoolArea: Pool area in square feet\n",
    "72.\tPoolQC: Pool quality\n",
    "73.\tFence: Fence quality\n",
    "74.\tMiscFeature: Miscellaneous feature not covered in other categories\n",
    "75.\tMiscVal: $Value of miscellaneous feature\n",
    "76.\tMoSold: Month Sold\n",
    "77.\tYrSold: Year Sold\n",
    "78.\tSaleType: Type of sale\n",
    "79.\tSaleCondition: Condition of sale\n",
    "\n",
    "###Target:\n",
    "SalePrice - the property's sale price in dollars. This is the target variable that you're trying to predict.\n",
    "\n",
    "\n",
    "Source: https://www.kaggle.com/c/house-prices-advanced-regression-techniques/data\n",
    "\n",
    "\n",
    "# Task 1: Multi-class Support vector machine (SVM)\n",
    "1.\tLoad multi-class dataset\n",
    "2.\tApply pre-processing techniques\n",
    "3.\tDivide dataset into training and testing sets (fraction of your choice)\n",
    "4.\tBuild multi-class SVM model (use sklearn)\n",
    "5.\tEvaluate precision and recall\n",
    "6.\tPlay with hyper-parameters and find best combination\n",
    "\n",
    "\n",
    "# Task 2: Support vector regression (SVR)\n",
    "1.\tLoad regression dataset\n",
    "2.\tApply pre-processing techniques\n",
    "3.\tDivide dataset into training and testing sets (fraction of your choice)\n",
    "4.\tBuild SVR model (use sklearn)\n",
    "5.\tEvaluate root mean square error\n",
    "6.\tPlay with hyper-parameters and find best combination\n",
    "\n",
    "\n",
    "# Task 3: Play with various SVM kernels such as polynomial, rbf, sigmoid tanh, etc.\n",
    "\n",
    "###For more details: \n",
    "https://scikit-learn.org/stable/modules/svm.html\n",
    "https://scikit-learn.org/stable/auto_examples/svm/plot_svm_kernels.html\n",
    "\n",
    "\n"
   ]
  },
  {
   "cell_type": "markdown",
   "metadata": {
    "id": "5uFw2frEUF0y"
   },
   "source": [
    "## Task 1: Multi-class Support vector machine (SVM) "
   ]
  },
  {
   "cell_type": "code",
   "execution_count": null,
   "metadata": {
    "id": "Duh_Q74qIidS"
   },
   "outputs": [],
   "source": [
    "# Load the libraries\n"
   ]
  },
  {
   "cell_type": "code",
   "execution_count": null,
   "metadata": {
    "id": "SyioH2iYIjhk"
   },
   "outputs": [],
   "source": [
    "# Load the dataset \n",
    "\n"
   ]
  },
  {
   "cell_type": "code",
   "execution_count": null,
   "metadata": {
    "id": "vtfupr9JInhf"
   },
   "outputs": [],
   "source": [
    "# Preprocessing\n",
    "# Encoding categorical variables (if any)\n",
    "# Feature Scaling\n",
    "# Filling missing values (if any)\n",
    "\n"
   ]
  },
  {
   "cell_type": "code",
   "execution_count": null,
   "metadata": {
    "id": "13owZH7mIpZp"
   },
   "outputs": [],
   "source": [
    "# Divide the dataset to training and testing set\n",
    "\n"
   ]
  },
  {
   "cell_type": "code",
   "execution_count": null,
   "metadata": {
    "id": "-KEJ1BB8a5xQ"
   },
   "outputs": [],
   "source": [
    "# Build SVM model \n",
    "\n",
    "\n",
    "\n"
   ]
  },
  {
   "cell_type": "code",
   "execution_count": null,
   "metadata": {
    "id": "jOIhehoYbSsJ"
   },
   "outputs": [],
   "source": [
    "# Evaluate the build model on test dataset\n",
    "\n"
   ]
  },
  {
   "cell_type": "code",
   "execution_count": null,
   "metadata": {
    "id": "XUBOrqrbbX-u"
   },
   "outputs": [],
   "source": [
    "# Evaluate training and testing accuracy\n",
    "\n"
   ]
  },
  {
   "cell_type": "markdown",
   "metadata": {
    "id": "9hZF7xcjbdAF"
   },
   "source": [
    "##Task 2: Implement support vector regression (SVR)\n"
   ]
  },
  {
   "cell_type": "code",
   "execution_count": null,
   "metadata": {
    "id": "1DSX6JMEbfss"
   },
   "outputs": [],
   "source": [
    "# Load training and testing datasets\n"
   ]
  },
  {
   "cell_type": "code",
   "execution_count": null,
   "metadata": {
    "id": "2yqNwnVCbkxG"
   },
   "outputs": [],
   "source": [
    "# Apply pre-processing techniques\n",
    "# Apply feature selection techniques of your choice to reduce the feature set"
   ]
  },
  {
   "cell_type": "code",
   "execution_count": null,
   "metadata": {
    "id": "eB_I4407bns6"
   },
   "outputs": [],
   "source": [
    "# Train SVR model\n",
    "\n",
    "\n",
    "\n"
   ]
  },
  {
   "cell_type": "code",
   "execution_count": null,
   "metadata": {
    "id": "GHOGKAXiCsSN"
   },
   "outputs": [],
   "source": [
    "# Evaluate training and testing root mean square error"
   ]
  },
  {
   "cell_type": "code",
   "execution_count": null,
   "metadata": {
    "id": "aK086juobpRo"
   },
   "outputs": [],
   "source": [
    "# Play with the intial/hyper parameters of the models(Optional)\n",
    "\n"
   ]
  },
  {
   "cell_type": "markdown",
   "metadata": {
    "id": "EPw_-SMyrka_"
   },
   "source": [
    "\n",
    "##Task 3: Play with various SVM kernels such as polynomial, rbf, sigmoid tanh, etc.\n"
   ]
  },
  {
   "cell_type": "code",
   "execution_count": null,
   "metadata": {
    "id": "XyxR8ijpVvR4"
   },
   "outputs": [],
   "source": [
    "#Play with various SVM kernels such as polynomial, rbf, sigmoid tanh, etc."
   ]
  }
 ],
 "metadata": {
  "colab": {
   "collapsed_sections": [],
   "name": "Task_2_Multiclass_SVM_and_SVR.ipynb",
   "provenance": []
  },
  "kernelspec": {
   "display_name": "Python 3",
   "language": "python",
   "name": "python3"
  },
  "language_info": {
   "codemirror_mode": {
    "name": "ipython",
    "version": 3
   },
   "file_extension": ".py",
   "mimetype": "text/x-python",
   "name": "python",
   "nbconvert_exporter": "python",
   "pygments_lexer": "ipython3",
   "version": "3.6.5"
  }
 },
 "nbformat": 4,
 "nbformat_minor": 1
}
