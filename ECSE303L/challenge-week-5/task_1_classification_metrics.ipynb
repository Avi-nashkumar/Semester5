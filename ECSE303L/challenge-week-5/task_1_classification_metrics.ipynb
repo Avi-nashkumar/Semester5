{
 "cells": [
  {
   "cell_type": "markdown",
   "metadata": {},
   "source": [
    "## Classification metrics\n",
    "\n",
    "Choosing right evaluation metrics for the problem is one of the most important aspect of machine learning. Choice of metrics allows us to compare performance of different models and helps in model selection.\n",
    "\n",
    "In this task, we will explore following metrics:\n",
    "- confusion matrix\n",
    "- accuracy\n",
    "- precision\n",
    "- recall\n",
    "- f1 score\n",
    "\n",
    "#### Dataset\n",
    "The training dataset is available at \"data/ozone_levels_train.csv\" in the respective challenge' repo.<br>\n",
    "The testing dataset is available at \"data/ozone_levels_test.csv\" in the respective challenge' repo.<br>\n",
    "\n",
    "The dataset is __modified version__ of the dataset 'ozone level' on provided by UCI Machine Learning repository.\n",
    "\n",
    "Original dataset: https://archive.ics.uci.edu/ml/datasets/Ozone+Level+Detection\n",
    "\n",
    "#### Objective\n",
    "To learn about classification metrics and compare logistic regression and decision tree on the same dataset\n",
    "\n",
    "#### Tasks\n",
    "- define X(input) and Y(output)\n",
    "- train the decision tree model \n",
    "- train the logistic model\n",
    "- construct a confusion matrix\n",
    "- calculate the classification accurace\n",
    "- calculate the Precision\n",
    "- calculate the Recall\n",
    "- calculate the F1 score\n",
    "- calculate Area Under ROC Curve\n",
    "\n",
    "#### Further fun\n",
    "- Calculate precission and recall\n",
    "- find the area under the curve for Roc metrics\n",
    "- impliment below metrics using inbuilt librarires\n",
    "        confusion matrix\n",
    "        accuracy\n",
    "        precision\n",
    "        recall\n",
    "        f1 score\n",
    "\n",
    "\n",
    "#### Helpful links\n",
    "- Classification metrics with google developers: https://developers.google.com/machine-learning/crash-course/classification/true-false-positive-negative\n",
    "- classification metrics: https://www.kdnuggets.com/2020/04/performance-evaluation-metrics-classification.html\n",
    "- pd.get_dummies() and One Hot Encoding: https://queirozf.com/entries/one-hot-encoding-a-feature-on-a-pandas-dataframe-an-example\n",
    "- Differences between Logistic Regression and a Decision Tree: https://www.geeksforgeeks.org/ml-logistic-regression-v-s-decision-tree-classification/\n",
    "- Decision Tree Classifier by Sklearn: https://scikit-learn.org/stable/modules/generated/sklearn.tree.DecisionTreeClassifier.html\n",
    "- Understanding classification metrics like Precision, Recall, F-Scores and Confusion matrices: https://nillsf.com/index.php/2020/05/23/confusion-matrix-accuracy-recall-precision-false-positive-rate-and-f-scores-explained/\n",
    "- Understanding the ROC Curve: https://developers.google.com/machine-learning/crash-course/classification/roc-and-auc\n",
    "- Use slack for doubts: https://join.slack.com/t/deepconnectai/shared_invite/zt-givlfnf6-~cn3SQ43k0BGDrG9_YOn4g"
   ]
  },
  {
   "cell_type": "code",
   "execution_count": 18,
   "metadata": {},
   "outputs": [],
   "source": [
    "import pandas as pd\n",
    "import numpy as np\n",
    "import matplotlib.pyplot as plt\n",
    "import seaborn as sns\n",
    "from sklearn.linear_model import LogisticRegression\n",
    "from sklearn.tree import DecisionTreeClassifier\n",
    "# Uncomment below 2 lines to ignore warnings\n",
    "# import warnings\n",
    "# warnings.filterwarnings('ignore')"
   ]
  },
  {
   "cell_type": "code",
   "execution_count": 19,
   "metadata": {},
   "outputs": [
    {
     "name": "stderr",
     "output_type": "stream",
     "text": [
      "'wget' is not recognized as an internal or external command,\n",
      "operable program or batch file.\n",
      "'wget' is not recognized as an internal or external command,\n",
      "operable program or batch file.\n"
     ]
    }
   ],
   "source": [
    "# Download data using wget if running on cloud\n",
    "!wget https://github.com/DeepConnectAI/challenge-week-5/raw/master/data/ozone_levels_train.csv\n",
    "!wget https://github.com/DeepConnectAI/challenge-week-5/raw/master/data/ozone_levels_test.csv"
   ]
  },
  {
   "cell_type": "code",
   "execution_count": 20,
   "metadata": {},
   "outputs": [],
   "source": [
    "# Load the train and test data\n",
    "train = pd.read_csv('data/ozone_levels_train.csv')\n",
    "test  = pd.read_csv(\"data/ozone_levels_test.csv\")"
   ]
  },
  {
   "cell_type": "code",
   "execution_count": 21,
   "metadata": {},
   "outputs": [
    {
     "data": {
      "text/html": [
       "<div>\n",
       "<style scoped>\n",
       "    .dataframe tbody tr th:only-of-type {\n",
       "        vertical-align: middle;\n",
       "    }\n",
       "\n",
       "    .dataframe tbody tr th {\n",
       "        vertical-align: top;\n",
       "    }\n",
       "\n",
       "    .dataframe thead th {\n",
       "        text-align: right;\n",
       "    }\n",
       "</style>\n",
       "<table border=\"1\" class=\"dataframe\">\n",
       "  <thead>\n",
       "    <tr style=\"text-align: right;\">\n",
       "      <th></th>\n",
       "      <th>F_0</th>\n",
       "      <th>F_1</th>\n",
       "      <th>F_2</th>\n",
       "      <th>F_3</th>\n",
       "      <th>F_4</th>\n",
       "      <th>F_5</th>\n",
       "      <th>F_6</th>\n",
       "      <th>F_7</th>\n",
       "      <th>F_8</th>\n",
       "      <th>F_9</th>\n",
       "      <th>...</th>\n",
       "      <th>F_63</th>\n",
       "      <th>F_64</th>\n",
       "      <th>F_65</th>\n",
       "      <th>F_66</th>\n",
       "      <th>F_67</th>\n",
       "      <th>F_68</th>\n",
       "      <th>F_69</th>\n",
       "      <th>F_70</th>\n",
       "      <th>F_71</th>\n",
       "      <th>class</th>\n",
       "    </tr>\n",
       "  </thead>\n",
       "  <tbody>\n",
       "    <tr>\n",
       "      <th>0</th>\n",
       "      <td>2.5</td>\n",
       "      <td>3.5</td>\n",
       "      <td>4.4</td>\n",
       "      <td>4.6</td>\n",
       "      <td>4.4</td>\n",
       "      <td>3.5</td>\n",
       "      <td>4.2</td>\n",
       "      <td>4.5</td>\n",
       "      <td>4.2</td>\n",
       "      <td>4.6</td>\n",
       "      <td>...</td>\n",
       "      <td>0.07</td>\n",
       "      <td>26.29</td>\n",
       "      <td>-2.37</td>\n",
       "      <td>5705.0</td>\n",
       "      <td>-19.40</td>\n",
       "      <td>23.40</td>\n",
       "      <td>10315.0</td>\n",
       "      <td>-0.130416</td>\n",
       "      <td>0.00</td>\n",
       "      <td>0.0</td>\n",
       "    </tr>\n",
       "    <tr>\n",
       "      <th>1</th>\n",
       "      <td>1.2</td>\n",
       "      <td>0.7</td>\n",
       "      <td>0.3</td>\n",
       "      <td>0.1</td>\n",
       "      <td>0.3</td>\n",
       "      <td>0.4</td>\n",
       "      <td>0.6</td>\n",
       "      <td>1.1</td>\n",
       "      <td>1.9</td>\n",
       "      <td>2.4</td>\n",
       "      <td>...</td>\n",
       "      <td>0.24</td>\n",
       "      <td>15.80</td>\n",
       "      <td>2.10</td>\n",
       "      <td>5710.0</td>\n",
       "      <td>-17.50</td>\n",
       "      <td>19.00</td>\n",
       "      <td>10210.0</td>\n",
       "      <td>15.000000</td>\n",
       "      <td>0.00</td>\n",
       "      <td>0.0</td>\n",
       "    </tr>\n",
       "    <tr>\n",
       "      <th>2</th>\n",
       "      <td>0.1</td>\n",
       "      <td>0.4</td>\n",
       "      <td>0.6</td>\n",
       "      <td>0.4</td>\n",
       "      <td>1.0</td>\n",
       "      <td>1.7</td>\n",
       "      <td>0.7</td>\n",
       "      <td>1.3</td>\n",
       "      <td>2.3</td>\n",
       "      <td>2.4</td>\n",
       "      <td>...</td>\n",
       "      <td>0.12</td>\n",
       "      <td>31.64</td>\n",
       "      <td>-5.24</td>\n",
       "      <td>5745.0</td>\n",
       "      <td>-16.90</td>\n",
       "      <td>25.90</td>\n",
       "      <td>10175.0</td>\n",
       "      <td>85.000000</td>\n",
       "      <td>0.00</td>\n",
       "      <td>0.0</td>\n",
       "    </tr>\n",
       "    <tr>\n",
       "      <th>3</th>\n",
       "      <td>0.6</td>\n",
       "      <td>0.9</td>\n",
       "      <td>1.0</td>\n",
       "      <td>0.6</td>\n",
       "      <td>0.7</td>\n",
       "      <td>0.7</td>\n",
       "      <td>0.8</td>\n",
       "      <td>1.4</td>\n",
       "      <td>2.6</td>\n",
       "      <td>2.6</td>\n",
       "      <td>...</td>\n",
       "      <td>0.19</td>\n",
       "      <td>1.22</td>\n",
       "      <td>-0.28</td>\n",
       "      <td>5835.0</td>\n",
       "      <td>-9.55</td>\n",
       "      <td>42.15</td>\n",
       "      <td>10215.0</td>\n",
       "      <td>5.000000</td>\n",
       "      <td>0.00</td>\n",
       "      <td>0.0</td>\n",
       "    </tr>\n",
       "    <tr>\n",
       "      <th>4</th>\n",
       "      <td>0.1</td>\n",
       "      <td>0.4</td>\n",
       "      <td>0.3</td>\n",
       "      <td>0.1</td>\n",
       "      <td>0.1</td>\n",
       "      <td>0.0</td>\n",
       "      <td>0.9</td>\n",
       "      <td>1.9</td>\n",
       "      <td>2.0</td>\n",
       "      <td>2.0</td>\n",
       "      <td>...</td>\n",
       "      <td>0.87</td>\n",
       "      <td>1.65</td>\n",
       "      <td>1.51</td>\n",
       "      <td>5835.0</td>\n",
       "      <td>32.95</td>\n",
       "      <td>47.30</td>\n",
       "      <td>10170.0</td>\n",
       "      <td>15.000000</td>\n",
       "      <td>0.97</td>\n",
       "      <td>0.0</td>\n",
       "    </tr>\n",
       "  </tbody>\n",
       "</table>\n",
       "<p>5 rows × 73 columns</p>\n",
       "</div>"
      ],
      "text/plain": [
       "   F_0  F_1  F_2  F_3  F_4  F_5  F_6  F_7  F_8  F_9  ...    F_63   F_64  F_65  \\\n",
       "0  2.5  3.5  4.4  4.6  4.4  3.5  4.2  4.5  4.2  4.6  ...    0.07  26.29 -2.37   \n",
       "1  1.2  0.7  0.3  0.1  0.3  0.4  0.6  1.1  1.9  2.4  ...    0.24  15.80  2.10   \n",
       "2  0.1  0.4  0.6  0.4  1.0  1.7  0.7  1.3  2.3  2.4  ...    0.12  31.64 -5.24   \n",
       "3  0.6  0.9  1.0  0.6  0.7  0.7  0.8  1.4  2.6  2.6  ...    0.19   1.22 -0.28   \n",
       "4  0.1  0.4  0.3  0.1  0.1  0.0  0.9  1.9  2.0  2.0  ...    0.87   1.65  1.51   \n",
       "\n",
       "     F_66   F_67   F_68     F_69       F_70  F_71  class  \n",
       "0  5705.0 -19.40  23.40  10315.0  -0.130416  0.00    0.0  \n",
       "1  5710.0 -17.50  19.00  10210.0  15.000000  0.00    0.0  \n",
       "2  5745.0 -16.90  25.90  10175.0  85.000000  0.00    0.0  \n",
       "3  5835.0  -9.55  42.15  10215.0   5.000000  0.00    0.0  \n",
       "4  5835.0  32.95  47.30  10170.0  15.000000  0.97    0.0  \n",
       "\n",
       "[5 rows x 73 columns]"
      ]
     },
     "execution_count": 21,
     "metadata": {},
     "output_type": "execute_result"
    }
   ],
   "source": [
    "# Explore train dataset\n",
    "train.head()"
   ]
  },
  {
   "cell_type": "code",
   "execution_count": 22,
   "metadata": {},
   "outputs": [
    {
     "name": "stdout",
     "output_type": "stream",
     "text": [
      "<class 'pandas.core.frame.DataFrame'>\n",
      "RangeIndex: 1775 entries, 0 to 1774\n",
      "Data columns (total 73 columns):\n",
      "F_0      1775 non-null float64\n",
      "F_1      1775 non-null float64\n",
      "F_2      1775 non-null float64\n",
      "F_3      1775 non-null float64\n",
      "F_4      1775 non-null float64\n",
      "F_5      1775 non-null float64\n",
      "F_6      1775 non-null float64\n",
      "F_7      1775 non-null float64\n",
      "F_8      1775 non-null float64\n",
      "F_9      1775 non-null float64\n",
      "F_10     1775 non-null float64\n",
      "F_11     1775 non-null float64\n",
      "F_12     1775 non-null float64\n",
      "F_13     1775 non-null float64\n",
      "F_14     1775 non-null float64\n",
      "F_15     1775 non-null float64\n",
      "F_16     1775 non-null float64\n",
      "F_17     1775 non-null float64\n",
      "F_18     1775 non-null float64\n",
      "F_19     1775 non-null float64\n",
      "F_20     1775 non-null float64\n",
      "F_21     1775 non-null float64\n",
      "F_22     1775 non-null float64\n",
      "F_23     1775 non-null float64\n",
      "F_24     1775 non-null float64\n",
      "F_25     1775 non-null float64\n",
      "F_26     1775 non-null float64\n",
      "F_27     1775 non-null float64\n",
      "F_28     1775 non-null float64\n",
      "F_29     1775 non-null float64\n",
      "F_30     1775 non-null float64\n",
      "F_31     1775 non-null float64\n",
      "F_32     1775 non-null float64\n",
      "F_33     1775 non-null float64\n",
      "F_34     1775 non-null float64\n",
      "F_35     1775 non-null float64\n",
      "F_36     1775 non-null float64\n",
      "F_37     1775 non-null float64\n",
      "F_38     1775 non-null float64\n",
      "F_39     1775 non-null float64\n",
      "F_40     1775 non-null float64\n",
      "F_41     1775 non-null float64\n",
      "F_42     1775 non-null float64\n",
      "F_43     1775 non-null float64\n",
      "F_44     1775 non-null float64\n",
      "F_45     1775 non-null float64\n",
      "F_46     1775 non-null float64\n",
      "F_47     1775 non-null float64\n",
      "F_48     1775 non-null float64\n",
      "F_49     1775 non-null float64\n",
      "F_50     1775 non-null float64\n",
      "F_51     1775 non-null float64\n",
      "F_52     1775 non-null float64\n",
      "F_53     1775 non-null float64\n",
      "F_54     1775 non-null float64\n",
      "F_55     1775 non-null float64\n",
      "F_56     1775 non-null float64\n",
      "F_57     1775 non-null float64\n",
      "F_58     1775 non-null float64\n",
      "F_59     1775 non-null float64\n",
      "F_60     1775 non-null float64\n",
      "F_61     1775 non-null float64\n",
      "F_62     1775 non-null float64\n",
      "F_63     1775 non-null float64\n",
      "F_64     1775 non-null float64\n",
      "F_65     1775 non-null float64\n",
      "F_66     1775 non-null float64\n",
      "F_67     1775 non-null float64\n",
      "F_68     1775 non-null float64\n",
      "F_69     1775 non-null float64\n",
      "F_70     1775 non-null float64\n",
      "F_71     1775 non-null float64\n",
      "class    1775 non-null float64\n",
      "dtypes: float64(73)\n",
      "memory usage: 1012.4 KB\n"
     ]
    }
   ],
   "source": [
    "train.info()"
   ]
  },
  {
   "cell_type": "code",
   "execution_count": 23,
   "metadata": {},
   "outputs": [
    {
     "data": {
      "text/html": [
       "<div>\n",
       "<style scoped>\n",
       "    .dataframe tbody tr th:only-of-type {\n",
       "        vertical-align: middle;\n",
       "    }\n",
       "\n",
       "    .dataframe tbody tr th {\n",
       "        vertical-align: top;\n",
       "    }\n",
       "\n",
       "    .dataframe thead th {\n",
       "        text-align: right;\n",
       "    }\n",
       "</style>\n",
       "<table border=\"1\" class=\"dataframe\">\n",
       "  <thead>\n",
       "    <tr style=\"text-align: right;\">\n",
       "      <th></th>\n",
       "      <th>F_0</th>\n",
       "      <th>F_1</th>\n",
       "      <th>F_2</th>\n",
       "      <th>F_3</th>\n",
       "      <th>F_4</th>\n",
       "      <th>F_5</th>\n",
       "      <th>F_6</th>\n",
       "      <th>F_7</th>\n",
       "      <th>F_8</th>\n",
       "      <th>F_9</th>\n",
       "      <th>...</th>\n",
       "      <th>F_63</th>\n",
       "      <th>F_64</th>\n",
       "      <th>F_65</th>\n",
       "      <th>F_66</th>\n",
       "      <th>F_67</th>\n",
       "      <th>F_68</th>\n",
       "      <th>F_69</th>\n",
       "      <th>F_70</th>\n",
       "      <th>F_71</th>\n",
       "      <th>class</th>\n",
       "    </tr>\n",
       "  </thead>\n",
       "  <tbody>\n",
       "    <tr>\n",
       "      <th>0</th>\n",
       "      <td>4.0</td>\n",
       "      <td>3.7</td>\n",
       "      <td>2.9</td>\n",
       "      <td>3.6</td>\n",
       "      <td>2.4</td>\n",
       "      <td>2.9</td>\n",
       "      <td>2.0</td>\n",
       "      <td>2.0</td>\n",
       "      <td>3.2</td>\n",
       "      <td>3.8</td>\n",
       "      <td>...</td>\n",
       "      <td>0.47</td>\n",
       "      <td>27.66</td>\n",
       "      <td>11.94</td>\n",
       "      <td>5605.0</td>\n",
       "      <td>10.70</td>\n",
       "      <td>31.95</td>\n",
       "      <td>10240.0</td>\n",
       "      <td>10.0</td>\n",
       "      <td>0.0</td>\n",
       "      <td>0.0</td>\n",
       "    </tr>\n",
       "    <tr>\n",
       "      <th>1</th>\n",
       "      <td>2.2</td>\n",
       "      <td>2.9</td>\n",
       "      <td>3.4</td>\n",
       "      <td>4.2</td>\n",
       "      <td>4.7</td>\n",
       "      <td>4.7</td>\n",
       "      <td>5.3</td>\n",
       "      <td>4.9</td>\n",
       "      <td>5.2</td>\n",
       "      <td>6.0</td>\n",
       "      <td>...</td>\n",
       "      <td>0.20</td>\n",
       "      <td>19.22</td>\n",
       "      <td>18.21</td>\n",
       "      <td>5515.0</td>\n",
       "      <td>-10.10</td>\n",
       "      <td>42.00</td>\n",
       "      <td>10065.0</td>\n",
       "      <td>25.0</td>\n",
       "      <td>0.0</td>\n",
       "      <td>0.0</td>\n",
       "    </tr>\n",
       "    <tr>\n",
       "      <th>2</th>\n",
       "      <td>2.7</td>\n",
       "      <td>2.2</td>\n",
       "      <td>2.3</td>\n",
       "      <td>2.5</td>\n",
       "      <td>2.6</td>\n",
       "      <td>2.9</td>\n",
       "      <td>3.2</td>\n",
       "      <td>2.9</td>\n",
       "      <td>3.6</td>\n",
       "      <td>4.2</td>\n",
       "      <td>...</td>\n",
       "      <td>0.10</td>\n",
       "      <td>14.22</td>\n",
       "      <td>-2.98</td>\n",
       "      <td>5690.0</td>\n",
       "      <td>0.70</td>\n",
       "      <td>32.70</td>\n",
       "      <td>10105.0</td>\n",
       "      <td>-55.0</td>\n",
       "      <td>0.0</td>\n",
       "      <td>0.0</td>\n",
       "    </tr>\n",
       "    <tr>\n",
       "      <th>3</th>\n",
       "      <td>1.5</td>\n",
       "      <td>1.3</td>\n",
       "      <td>1.8</td>\n",
       "      <td>1.4</td>\n",
       "      <td>1.2</td>\n",
       "      <td>1.7</td>\n",
       "      <td>1.6</td>\n",
       "      <td>1.4</td>\n",
       "      <td>1.6</td>\n",
       "      <td>3.0</td>\n",
       "      <td>...</td>\n",
       "      <td>0.54</td>\n",
       "      <td>13.07</td>\n",
       "      <td>9.15</td>\n",
       "      <td>5820.0</td>\n",
       "      <td>1.95</td>\n",
       "      <td>39.35</td>\n",
       "      <td>10220.0</td>\n",
       "      <td>-25.0</td>\n",
       "      <td>0.0</td>\n",
       "      <td>0.0</td>\n",
       "    </tr>\n",
       "    <tr>\n",
       "      <th>4</th>\n",
       "      <td>2.6</td>\n",
       "      <td>2.7</td>\n",
       "      <td>2.2</td>\n",
       "      <td>1.4</td>\n",
       "      <td>1.6</td>\n",
       "      <td>1.9</td>\n",
       "      <td>2.6</td>\n",
       "      <td>3.5</td>\n",
       "      <td>4.2</td>\n",
       "      <td>4.5</td>\n",
       "      <td>...</td>\n",
       "      <td>0.26</td>\n",
       "      <td>-1.52</td>\n",
       "      <td>-4.53</td>\n",
       "      <td>5910.0</td>\n",
       "      <td>27.70</td>\n",
       "      <td>43.70</td>\n",
       "      <td>10110.0</td>\n",
       "      <td>-30.0</td>\n",
       "      <td>0.0</td>\n",
       "      <td>0.0</td>\n",
       "    </tr>\n",
       "  </tbody>\n",
       "</table>\n",
       "<p>5 rows × 73 columns</p>\n",
       "</div>"
      ],
      "text/plain": [
       "   F_0  F_1  F_2  F_3  F_4  F_5  F_6  F_7  F_8  F_9  ...    F_63   F_64  \\\n",
       "0  4.0  3.7  2.9  3.6  2.4  2.9  2.0  2.0  3.2  3.8  ...    0.47  27.66   \n",
       "1  2.2  2.9  3.4  4.2  4.7  4.7  5.3  4.9  5.2  6.0  ...    0.20  19.22   \n",
       "2  2.7  2.2  2.3  2.5  2.6  2.9  3.2  2.9  3.6  4.2  ...    0.10  14.22   \n",
       "3  1.5  1.3  1.8  1.4  1.2  1.7  1.6  1.4  1.6  3.0  ...    0.54  13.07   \n",
       "4  2.6  2.7  2.2  1.4  1.6  1.9  2.6  3.5  4.2  4.5  ...    0.26  -1.52   \n",
       "\n",
       "    F_65    F_66   F_67   F_68     F_69  F_70  F_71  class  \n",
       "0  11.94  5605.0  10.70  31.95  10240.0  10.0   0.0    0.0  \n",
       "1  18.21  5515.0 -10.10  42.00  10065.0  25.0   0.0    0.0  \n",
       "2  -2.98  5690.0   0.70  32.70  10105.0 -55.0   0.0    0.0  \n",
       "3   9.15  5820.0   1.95  39.35  10220.0 -25.0   0.0    0.0  \n",
       "4  -4.53  5910.0  27.70  43.70  10110.0 -30.0   0.0    0.0  \n",
       "\n",
       "[5 rows x 73 columns]"
      ]
     },
     "execution_count": 23,
     "metadata": {},
     "output_type": "execute_result"
    }
   ],
   "source": [
    "# Explore test dataset\n",
    "test.head()"
   ]
  },
  {
   "cell_type": "code",
   "execution_count": 24,
   "metadata": {},
   "outputs": [
    {
     "name": "stdout",
     "output_type": "stream",
     "text": [
      "<class 'pandas.core.frame.DataFrame'>\n",
      "RangeIndex: 761 entries, 0 to 760\n",
      "Data columns (total 73 columns):\n",
      "F_0      761 non-null float64\n",
      "F_1      761 non-null float64\n",
      "F_2      761 non-null float64\n",
      "F_3      761 non-null float64\n",
      "F_4      761 non-null float64\n",
      "F_5      761 non-null float64\n",
      "F_6      761 non-null float64\n",
      "F_7      761 non-null float64\n",
      "F_8      761 non-null float64\n",
      "F_9      761 non-null float64\n",
      "F_10     761 non-null float64\n",
      "F_11     761 non-null float64\n",
      "F_12     761 non-null float64\n",
      "F_13     761 non-null float64\n",
      "F_14     761 non-null float64\n",
      "F_15     761 non-null float64\n",
      "F_16     761 non-null float64\n",
      "F_17     761 non-null float64\n",
      "F_18     761 non-null float64\n",
      "F_19     761 non-null float64\n",
      "F_20     761 non-null float64\n",
      "F_21     761 non-null float64\n",
      "F_22     761 non-null float64\n",
      "F_23     761 non-null float64\n",
      "F_24     761 non-null float64\n",
      "F_25     761 non-null float64\n",
      "F_26     761 non-null float64\n",
      "F_27     761 non-null float64\n",
      "F_28     761 non-null float64\n",
      "F_29     761 non-null float64\n",
      "F_30     761 non-null float64\n",
      "F_31     761 non-null float64\n",
      "F_32     761 non-null float64\n",
      "F_33     761 non-null float64\n",
      "F_34     761 non-null float64\n",
      "F_35     761 non-null float64\n",
      "F_36     761 non-null float64\n",
      "F_37     761 non-null float64\n",
      "F_38     761 non-null float64\n",
      "F_39     761 non-null float64\n",
      "F_40     761 non-null float64\n",
      "F_41     761 non-null float64\n",
      "F_42     761 non-null float64\n",
      "F_43     761 non-null float64\n",
      "F_44     761 non-null float64\n",
      "F_45     761 non-null float64\n",
      "F_46     761 non-null float64\n",
      "F_47     761 non-null float64\n",
      "F_48     761 non-null float64\n",
      "F_49     761 non-null float64\n",
      "F_50     761 non-null float64\n",
      "F_51     761 non-null float64\n",
      "F_52     761 non-null float64\n",
      "F_53     761 non-null float64\n",
      "F_54     761 non-null float64\n",
      "F_55     761 non-null float64\n",
      "F_56     761 non-null float64\n",
      "F_57     761 non-null float64\n",
      "F_58     761 non-null float64\n",
      "F_59     761 non-null float64\n",
      "F_60     761 non-null float64\n",
      "F_61     761 non-null float64\n",
      "F_62     761 non-null float64\n",
      "F_63     761 non-null float64\n",
      "F_64     761 non-null float64\n",
      "F_65     761 non-null float64\n",
      "F_66     761 non-null float64\n",
      "F_67     761 non-null float64\n",
      "F_68     761 non-null float64\n",
      "F_69     761 non-null float64\n",
      "F_70     761 non-null float64\n",
      "F_71     761 non-null float64\n",
      "class    761 non-null float64\n",
      "dtypes: float64(73)\n",
      "memory usage: 434.1 KB\n"
     ]
    }
   ],
   "source": [
    "test.info()"
   ]
  },
  {
   "cell_type": "code",
   "execution_count": 28,
   "metadata": {},
   "outputs": [],
   "source": [
    "# Define X and y\n",
    "X_train = train.drop('class', axis=1)\n",
    "X_test  = test.drop('class', axis=1)\n",
    "y_train = train['class']\n",
    "y_test  = test['class']"
   ]
  },
  {
   "cell_type": "code",
   "execution_count": 29,
   "metadata": {},
   "outputs": [
    {
     "name": "stdout",
     "output_type": "stream",
     "text": [
      "X_train: (1775, 72) , y_train: (1775,)\n",
      "X_test: (761, 72) , y_test: (761,)\n"
     ]
    }
   ],
   "source": [
    "# Print shape of X_train, X_test, y_train, y_test\n",
    "X_train_shape = X_train.shape\n",
    "y_train_shape = y_train.shape\n",
    "X_test_shape  = X_test.shape\n",
    "y_test_shape  = y_test.shape\n",
    "\n",
    "print(f\"X_train: {X_train_shape} , y_train: {y_train_shape}\")\n",
    "print(f\"X_test: {X_test_shape} , y_test: {y_test_shape}\")\n",
    "assert (X_train.shape[0]==y_train.shape[0] and X_test.shape[0]==y_test.shape[0]), \"Check your splitting carefully\"\n"
   ]
  },
  {
   "cell_type": "code",
   "execution_count": 32,
   "metadata": {},
   "outputs": [],
   "source": [
    "# Initialize the models\n",
    "# Classifier 1 - Logistic regression\n",
    "clf1 = LogisticRegression(max_iter=10000)\n",
    "# Classifier 2 - Decision tree\n",
    "clf2 = DecisionTreeClassifier()"
   ]
  },
  {
   "cell_type": "code",
   "execution_count": 34,
   "metadata": {},
   "outputs": [
    {
     "data": {
      "text/plain": [
       "LogisticRegression(C=1.0, class_weight=None, dual=False, fit_intercept=True,\n",
       "          intercept_scaling=1, max_iter=10000, multi_class='ovr', n_jobs=1,\n",
       "          penalty='l2', random_state=None, solver='liblinear', tol=0.0001,\n",
       "          verbose=0, warm_start=False)"
      ]
     },
     "execution_count": 34,
     "metadata": {},
     "output_type": "execute_result"
    }
   ],
   "source": [
    "# Train both the models on training dataset\n",
    "clf1.fit(X_train, y_train)\n",
    "\n",
    "\n",
    "\n",
    "\n"
   ]
  },
  {
   "cell_type": "code",
   "execution_count": 35,
   "metadata": {},
   "outputs": [
    {
     "data": {
      "text/plain": [
       "DecisionTreeClassifier(class_weight=None, criterion='gini', max_depth=None,\n",
       "            max_features=None, max_leaf_nodes=None,\n",
       "            min_impurity_decrease=0.0, min_impurity_split=None,\n",
       "            min_samples_leaf=1, min_samples_split=2,\n",
       "            min_weight_fraction_leaf=0.0, presort=False, random_state=None,\n",
       "            splitter='best')"
      ]
     },
     "execution_count": 35,
     "metadata": {},
     "output_type": "execute_result"
    }
   ],
   "source": [
    "clf2.fit(X_train, y_train)"
   ]
  },
  {
   "cell_type": "code",
   "execution_count": 36,
   "metadata": {},
   "outputs": [
    {
     "data": {
      "text/plain": [
       "(0.9671484888304862, 0.9434954007884363)"
      ]
     },
     "execution_count": 36,
     "metadata": {},
     "output_type": "execute_result"
    }
   ],
   "source": [
    "# Predict on testing data\n",
    "y_pred_lr = clf1.predict(X_test)\n",
    "y_pred_dt = clf2.predict(X_test)\n",
    "sum(y_pred_lr ==  y_test)/ len(y_test) , sum(y_pred_dt ==  y_test)/ len(y_test)"
   ]
  },
  {
   "cell_type": "code",
   "execution_count": null,
   "metadata": {},
   "outputs": [],
   "source": []
  },
  {
   "cell_type": "markdown",
   "metadata": {},
   "source": [
    "### Primary building blocks of classification metrics\n",
    "\n",
    "A __TRUE POSITIVE (TP)__ is an outcome where the model correctly predicts the positive class.\n",
    "\n",
    "A __TRUE NEGATIVE (TN)__ is an outcome where the model correctly predicts the negative class.\n",
    "\n",
    "A __FALSE POSITIVE (FP)__ is an outcome where the model incorrectly predicts the positive class.\n",
    "\n",
    "a __FALSE NEGATIVE (FN)__ is an outcome where the model incorrectly predicts the negative class."
   ]
  },
  {
   "cell_type": "code",
   "execution_count": 37,
   "metadata": {},
   "outputs": [],
   "source": [
    "# Compute primary metrics for logisitc regression\n",
    "# NOTE: All metrics are to be calculated on test dataset\n",
    "# True Positive\n",
    "lr_true_positive = sum([1 for i in range(len(y_test)) if y_test[i] == 1 and y_pred_lr[i] == 1])\n",
    "# True Negative\n",
    "lr_true_negative = sum([1 for i in range(len(y_test)) if y_test[i] == 0 and y_pred_lr[i] == 0])\n",
    "# False Positive\n",
    "lr_false_positive = sum([1 for i in range(len(y_test)) if y_test[i] == 0 and y_pred_lr[i] == 1])\n",
    "# False Negative\n",
    "lr_false_negative = sum([1 for i in range(len(y_test)) if y_test[i] == 1 and y_pred_lr[i] == 0])"
   ]
  },
  {
   "cell_type": "code",
   "execution_count": 38,
   "metadata": {},
   "outputs": [],
   "source": [
    "# Compute primary metrics for decision tree\n",
    "# True Positive\n",
    "dt_true_positive = sum([1 for i in range(len(y_test)) if y_test[i] == 1 and y_pred_dt[i] == 1])\n",
    "# True Negative\n",
    "dt_true_negative = sum([1 for i in range(len(y_test)) if y_test[i] == 0 and y_pred_dt[i] == 0])\n",
    "# False Positive\n",
    "dt_false_positive = sum([1 for i in range(len(y_test)) if y_test[i] == 0 and y_pred_dt[i] == 1])\n",
    "# False Negative\n",
    "dt_false_negative = sum([1 for i in range(len(y_test)) if y_test[i] == 1 and y_pred_dt[i] == 0])"
   ]
  },
  {
   "cell_type": "markdown",
   "metadata": {},
   "source": [
    "### Confusion matrix\n",
    "A confusion matrix is visualization technique to summarize the basic performance of a classification algorithm.\n",
    "\n",
    "![Confusion matrix](https://static.packt-cdn.com/products/9781838555078/graphics/C13314_06_05.jpg \"Confusion matric diagram\")"
   ]
  },
  {
   "cell_type": "code",
   "execution_count": 39,
   "metadata": {},
   "outputs": [
    {
     "data": {
      "image/png": "[encoded data removed]",
      "text/plain": [
       "<Figure size 1800x576 with 4 Axes>"
      ]
     },
     "metadata": {},
     "output_type": "display_data"
    }
   ],
   "source": [
    "# Plot confusion matrix, DO NOT EDIT THE CELL\n",
    "fig, axes = plt.subplots(nrows=1, ncols=2, figsize=(25,8))\n",
    "\n",
    "plt.title(\"Confusion matrix for logistic regression\")\n",
    "sns.heatmap(np.array([[lr_true_negative, lr_false_positive],[lr_false_negative, lr_true_positive]]), annot=True, cmap=plt.cm.Blues, fmt='g', ax=axes[0])\n",
    "plt.title(\"Confusion matrix for decision tree\")\n",
    "sns.heatmap(np.array([[dt_true_negative, dt_false_positive],[dt_false_negative, dt_true_positive]]), annot=True, cmap=plt.cm.Blues, fmt='g', ax=axes[1])\n",
    "\n",
    "plt.show()"
   ]
  },
  {
   "cell_type": "markdown",
   "metadata": {},
   "source": [
    "### Accuracy \n",
    "Classification accuracy is simply the rate of correct classifications\n",
    "$$Accuracy = \\frac{Number \\, of \\, correct \\, predictions}{Total \\, number \\, of \\, predictions}$$\n",
    "<br>\n",
    "$$Accuracy = \\frac{TP + TN}{TP + TN + FP + FN}$$"
   ]
  },
  {
   "cell_type": "code",
   "execution_count": 40,
   "metadata": {},
   "outputs": [],
   "source": [
    "# Classification accuracy for logistic regression\n",
    "lr_accuracy = (lr_true_negative+lr_true_positive)/(lr_false_negative+lr_false_positive+lr_true_negative+lr_true_positive)\n",
    "# Classification accuracy for decision tree\n",
    "dt_accuracy = (dt_true_negative+dt_true_positive)/(dt_false_negative+dt_false_positive+dt_true_negative+dt_true_positive)"
   ]
  },
  {
   "cell_type": "code",
   "execution_count": 41,
   "metadata": {},
   "outputs": [
    {
     "name": "stdout",
     "output_type": "stream",
     "text": [
      "Classificaton accuracy: LR =  0.9671484888304862\n",
      "Classificaton accuracy: DT =  0.9434954007884363\n"
     ]
    }
   ],
   "source": [
    "print(\"Classificaton accuracy: LR = \" , lr_accuracy)\n",
    "print(\"Classificaton accuracy: DT = \" , dt_accuracy)"
   ]
  },
  {
   "cell_type": "markdown",
   "metadata": {},
   "source": [
    "### Precision\n",
    "What proportion of positive identifications was actually correct?\n",
    "$$Precision = \\frac{TP}{TP+FP}$$"
   ]
  },
  {
   "cell_type": "code",
   "execution_count": 42,
   "metadata": {},
   "outputs": [],
   "source": [
    "# Precision for logistic regression\n",
    "try:\n",
    "    lr_precision = lr_true_positive/(lr_true_positive+lr_false_positive)\n",
    "except:\n",
    "    lr_precision = 0\n",
    "    print(\"If you see this message, it means that the\\ndenominator of precision for logistic regression turned out to be 0 \")\n",
    "# Precision for decision tree\n",
    "try:\n",
    "    dt_precision = dt_true_positive/(dt_true_positive+dt_false_positive)\n",
    "except:\n",
    "    dt_precision = 0\n",
    "    print(\"If you see this message, it means that the\\ndenominator of precision for decision tree turned out to be 0 \")"
   ]
  },
  {
   "cell_type": "code",
   "execution_count": 43,
   "metadata": {},
   "outputs": [
    {
     "name": "stdout",
     "output_type": "stream",
     "text": [
      "Precision: LR =  0.3\n",
      "Precision: DT =  0.10714285714285714\n"
     ]
    }
   ],
   "source": [
    "print(\"Precision: LR = \" , lr_precision)\n",
    "print(\"Precision: DT = \" , dt_precision)"
   ]
  },
  {
   "cell_type": "markdown",
   "metadata": {},
   "source": [
    "### Recall\n",
    "What proportion of actual positives was identified correctly?\n",
    "$$Recall = \\frac{TP}{TP+FN}$$"
   ]
  },
  {
   "cell_type": "code",
   "execution_count": 44,
   "metadata": {},
   "outputs": [],
   "source": [
    "# Recall for logistic regression\n",
    "try:\n",
    "    lr_recall = lr_true_positive / (lr_true_positive + lr_false_negative)\n",
    "except:\n",
    "    lr_recall = 0\n",
    "    print(\"If you see this message, it means that the\\ndenominator of recall for logistic regression turned out to be 0 \")\n",
    "# Recall for decision tree\n",
    "try:\n",
    "    dt_recall = dt_true_positive / (dt_true_positive + dt_false_negative) \n",
    "except:\n",
    "    dt_recall = 0\n",
    "    print(\"If you see this message, it means that the\\ndenominator of recall for decision tree turned out to be 0 \")"
   ]
  },
  {
   "cell_type": "code",
   "execution_count": 45,
   "metadata": {},
   "outputs": [
    {
     "name": "stdout",
     "output_type": "stream",
     "text": [
      "Recall: LR =  0.14285714285714285\n",
      "Recall: DT =  0.14285714285714285\n"
     ]
    }
   ],
   "source": [
    "print(\"Recall: LR = \" , lr_recall)\n",
    "print(\"Recall: DT = \" , dt_recall)"
   ]
  },
  {
   "cell_type": "markdown",
   "metadata": {},
   "source": [
    "### F1 score\n",
    "The F1 score can be interpreted as a weighted average of the precision and recall, where an F1 score reaches its best value at 1 and worst score at 0. The relative contribution of precision and recall to the F1 score are equal.\n",
    "$$ F1 \\, score = \\frac{2* Precision * Recall}{Precision + Recall}$$"
   ]
  },
  {
   "cell_type": "code",
   "execution_count": 46,
   "metadata": {},
   "outputs": [],
   "source": [
    "# F1 score for logistic regression\n",
    "lr_f1_score = (2*lr_precision*lr_recall)/(lr_precision+lr_recall)\n",
    "# F1 score for decision tree\n",
    "dt_f1_score = (2*dt_precision*dt_recall)/(dt_precision+dt_recall)"
   ]
  },
  {
   "cell_type": "code",
   "execution_count": 47,
   "metadata": {},
   "outputs": [
    {
     "name": "stdout",
     "output_type": "stream",
     "text": [
      "F1 score: LR =  0.19354838709677416\n",
      "F1 score: DT =  0.12244897959183672\n"
     ]
    }
   ],
   "source": [
    "print(\"F1 score: LR = \" , lr_f1_score)\n",
    "print(\"F1 score: DT = \" , dt_f1_score)"
   ]
  },
  {
   "cell_type": "markdown",
   "metadata": {},
   "source": [
    "### Area Under ROC Curve\n",
    "A ROC Curve is a plot of the true positive rate and the false positive rate for a given set of probability predictions at different thresholds used to map the probabilities to class labels. The area under the curve is then the approximate integral under the ROC Curve."
   ]
  },
  {
   "cell_type": "code",
   "execution_count": null,
   "metadata": {},
   "outputs": [],
   "source": [
    "# False positive rate for logisitic regression\n",
    "lr_false_positive_rate = \n",
    "# True positive rate for logisitic regression\n",
    "lr_true_positive_rate = \n",
    "# False positive rate for decision trees\n",
    "dt_false_positive_rate = \n",
    "# True positive rate for decision trees\n",
    "dt_true_positive_rate = "
   ]
  },
  {
   "cell_type": "code",
   "execution_count": null,
   "metadata": {},
   "outputs": [],
   "source": [
    "# TODO: Plot the ROC curve\n",
    "plt.plot()\n",
    "plt.plot()\n",
    "plt.show()"
   ]
  },
  {
   "cell_type": "code",
   "execution_count": null,
   "metadata": {},
   "outputs": [],
   "source": []
  }
 ],
 "metadata": {
  "kernelspec": {
   "display_name": "Python 3",
   "language": "python",
   "name": "python3"
  },
  "language_info": {
   "codemirror_mode": {
    "name": "ipython",
    "version": 3
   },
   "file_extension": ".py",
   "mimetype": "text/x-python",
   "name": "python",
   "nbconvert_exporter": "python",
   "pygments_lexer": "ipython3",
   "version": "3.6.5"
  },
  "toc": {
   "base_numbering": 1,
   "nav_menu": {},
   "number_sections": true,
   "sideBar": true,
   "skip_h1_title": false,
   "title_cell": "Table of Contents",
   "title_sidebar": "Contents",
   "toc_cell": false,
   "toc_position": {},
   "toc_section_display": true,
   "toc_window_display": false
  }
 },
 "nbformat": 4,
 "nbformat_minor": 4
}
